{
 "cells": [
  {
   "cell_type": "markdown",
   "id": "019be08f",
   "metadata": {},
   "source": [
    "# Описание задачи"
   ]
  },
  {
   "cell_type": "markdown",
   "id": "fb1a2068",
   "metadata": {},
   "source": [
    "Данная задача на бинарную классификацию.\n",
    "\n",
    "**Цель:**<br>\n",
    "В данной задаче мы будем предсказывать был ли пассажир космического корабля Титаник перенесен в альтернативное измерение или нет во время столкновения с пространственно-временной аномалией.\n",
    "\n",
    "Задача взята с соревновательной платформы kaggle https://www.kaggle.com/competitions/spaceship-titanic/overview\n",
    "\n",
    "**Имеющиеся данные:**\n",
    " + PassengerId - записано в формате gggg_pp, где gggg - группа пассажира, pp - его id внутри группы\n",
    " + HomePlanet - родная планета\n",
    " + CryoSleep - бал или нет помещен в криосон\n",
    " + Cabin - имеет форму deck/num/side, где deck - палуба \n",
    " + Destination - направление\n",
    " + Age - возраст\n",
    " + VIP\n",
    " + RoomService, FoodCourt, ShoppingMall, Spa, VRDeck - сумма за каждое из этих удобств\n",
    " + Name - имя\n",
    " + Transported - был или нет транспортирован в другое измерение - наша целевая перменная"
   ]
  },
  {
   "cell_type": "markdown",
   "id": "4656eaee",
   "metadata": {},
   "source": [
    "# Начало работы"
   ]
  },
  {
   "cell_type": "markdown",
   "id": "c59d26f3",
   "metadata": {},
   "source": [
    "## Подключение библиотек"
   ]
  },
  {
   "cell_type": "code",
   "execution_count": 109,
   "id": "73c6bd8f",
   "metadata": {},
   "outputs": [],
   "source": [
    "import numpy as np # linear algebra\n",
    "import pandas as pd # data processing, CSV file I/O (e.g. pd.read_csv)\n",
    "import matplotlib.pyplot as plt\n",
    "import seaborn as sns\n",
    "from math import ceil\n",
    "\n",
    "from sklearn.preprocessing import StandardScaler\n",
    "\n",
    "from sklearn.model_selection import train_test_split, GridSearchCV\n",
    "\n",
    "from sklearn.tree import DecisionTreeRegressor\n",
    "\n",
    "from scipy.stats import chi2_contingency\n",
    "from scipy.stats import chisquare\n",
    "from scipy.stats import ttest_ind\n",
    "\n",
    "from sklearn.svm import SVC\n",
    "from sklearn.ensemble import RandomForestClassifier\n",
    "from sklearn.linear_model import LogisticRegression\n",
    "from sklearn.metrics import accuracy_score, confusion_matrix\n",
    "\n",
    "\n",
    "%matplotlib inline\n",
    "sns.set(rc={\"figure.figsize\": (20, 20)})\n",
    "sns.set_style(\"whitegrid\")"
   ]
  },
  {
   "cell_type": "markdown",
   "id": "f05d04d5",
   "metadata": {},
   "source": [
    "## Функции и переменные"
   ]
  },
  {
   "cell_type": "code",
   "execution_count": 20,
   "id": "dd33724e",
   "metadata": {},
   "outputs": [],
   "source": [
    "RANDOM_STATE = 100\n",
    "SPLIT_TEST_SIZE = 0.2 # размер тестовой выборки\n",
    "NUM_SPLIT_FOR_GRID = 5 #на сколько частей будет разбиваться выборка при подборе параметров\n",
    "TRESHOLD_FOR_CORR = 0.1 #порог значения корреляции, ниже которого будем отбрасывать признаки\n",
    "TRESHOLD_FOR_HIGH_CORR = 0.6 #при этом пороге корреляции будем тщательнее исследовать на предмет выбросов\n",
    "TRESHOLD_FOR_HIGH_CORR_BETWEEN_FEATURE = 0.8 #если корреляция выше - удаляемм один из коррелируемых признаков \n",
    "COLOR_PLOT = 'deepskyblue'\n",
    "\n",
    "def del_from_list(list_el, new_el):\n",
    "    \"\"\"\n",
    "    Функция удаления элементов из массива\n",
    "    \"\"\"\n",
    "    if np.isin(new_el, list_el).sum():\n",
    "        return np.setdiff1d(list_el, new_el)\n",
    "    else:\n",
    "        return list_el\n",
    "    \n",
    "def ksi(data, X, Y):\n",
    "    for i, j in zip(X, Y):\n",
    "\n",
    "        CrosstabResult = pd.crosstab(index=train[i], columns=train[j])\n",
    "        \n",
    "        ChiSqResult = chi2_contingency(CrosstabResult)\n",
    "        print(f\"P-Value χ² теста между группами {i} и {j} = {ChiSqResult[1]}\\n\")"
   ]
  },
  {
   "cell_type": "markdown",
   "id": "1f8565c0",
   "metadata": {},
   "source": [
    "## Загрузка данных"
   ]
  },
  {
   "cell_type": "code",
   "execution_count": 21,
   "id": "3c8b7a66",
   "metadata": {},
   "outputs": [
    {
     "data": {
      "text/html": [
       "<div>\n",
       "<style scoped>\n",
       "    .dataframe tbody tr th:only-of-type {\n",
       "        vertical-align: middle;\n",
       "    }\n",
       "\n",
       "    .dataframe tbody tr th {\n",
       "        vertical-align: top;\n",
       "    }\n",
       "\n",
       "    .dataframe thead th {\n",
       "        text-align: right;\n",
       "    }\n",
       "</style>\n",
       "<table border=\"1\" class=\"dataframe\">\n",
       "  <thead>\n",
       "    <tr style=\"text-align: right;\">\n",
       "      <th></th>\n",
       "      <th>PassengerId</th>\n",
       "      <th>HomePlanet</th>\n",
       "      <th>CryoSleep</th>\n",
       "      <th>Cabin</th>\n",
       "      <th>Destination</th>\n",
       "      <th>Age</th>\n",
       "      <th>VIP</th>\n",
       "      <th>RoomService</th>\n",
       "      <th>FoodCourt</th>\n",
       "      <th>ShoppingMall</th>\n",
       "      <th>Spa</th>\n",
       "      <th>VRDeck</th>\n",
       "      <th>Name</th>\n",
       "      <th>Transported</th>\n",
       "    </tr>\n",
       "  </thead>\n",
       "  <tbody>\n",
       "    <tr>\n",
       "      <th>0</th>\n",
       "      <td>0001_01</td>\n",
       "      <td>Europa</td>\n",
       "      <td>False</td>\n",
       "      <td>B/0/P</td>\n",
       "      <td>TRAPPIST-1e</td>\n",
       "      <td>39.0</td>\n",
       "      <td>False</td>\n",
       "      <td>0.0</td>\n",
       "      <td>0.0</td>\n",
       "      <td>0.0</td>\n",
       "      <td>0.0</td>\n",
       "      <td>0.0</td>\n",
       "      <td>Maham Ofracculy</td>\n",
       "      <td>False</td>\n",
       "    </tr>\n",
       "    <tr>\n",
       "      <th>1</th>\n",
       "      <td>0002_01</td>\n",
       "      <td>Earth</td>\n",
       "      <td>False</td>\n",
       "      <td>F/0/S</td>\n",
       "      <td>TRAPPIST-1e</td>\n",
       "      <td>24.0</td>\n",
       "      <td>False</td>\n",
       "      <td>109.0</td>\n",
       "      <td>9.0</td>\n",
       "      <td>25.0</td>\n",
       "      <td>549.0</td>\n",
       "      <td>44.0</td>\n",
       "      <td>Juanna Vines</td>\n",
       "      <td>True</td>\n",
       "    </tr>\n",
       "    <tr>\n",
       "      <th>2</th>\n",
       "      <td>0003_01</td>\n",
       "      <td>Europa</td>\n",
       "      <td>False</td>\n",
       "      <td>A/0/S</td>\n",
       "      <td>TRAPPIST-1e</td>\n",
       "      <td>58.0</td>\n",
       "      <td>True</td>\n",
       "      <td>43.0</td>\n",
       "      <td>3576.0</td>\n",
       "      <td>0.0</td>\n",
       "      <td>6715.0</td>\n",
       "      <td>49.0</td>\n",
       "      <td>Altark Susent</td>\n",
       "      <td>False</td>\n",
       "    </tr>\n",
       "    <tr>\n",
       "      <th>3</th>\n",
       "      <td>0003_02</td>\n",
       "      <td>Europa</td>\n",
       "      <td>False</td>\n",
       "      <td>A/0/S</td>\n",
       "      <td>TRAPPIST-1e</td>\n",
       "      <td>33.0</td>\n",
       "      <td>False</td>\n",
       "      <td>0.0</td>\n",
       "      <td>1283.0</td>\n",
       "      <td>371.0</td>\n",
       "      <td>3329.0</td>\n",
       "      <td>193.0</td>\n",
       "      <td>Solam Susent</td>\n",
       "      <td>False</td>\n",
       "    </tr>\n",
       "    <tr>\n",
       "      <th>4</th>\n",
       "      <td>0004_01</td>\n",
       "      <td>Earth</td>\n",
       "      <td>False</td>\n",
       "      <td>F/1/S</td>\n",
       "      <td>TRAPPIST-1e</td>\n",
       "      <td>16.0</td>\n",
       "      <td>False</td>\n",
       "      <td>303.0</td>\n",
       "      <td>70.0</td>\n",
       "      <td>151.0</td>\n",
       "      <td>565.0</td>\n",
       "      <td>2.0</td>\n",
       "      <td>Willy Santantines</td>\n",
       "      <td>True</td>\n",
       "    </tr>\n",
       "  </tbody>\n",
       "</table>\n",
       "</div>"
      ],
      "text/plain": [
       "  PassengerId HomePlanet CryoSleep  Cabin  Destination   Age    VIP  \\\n",
       "0     0001_01     Europa     False  B/0/P  TRAPPIST-1e  39.0  False   \n",
       "1     0002_01      Earth     False  F/0/S  TRAPPIST-1e  24.0  False   \n",
       "2     0003_01     Europa     False  A/0/S  TRAPPIST-1e  58.0   True   \n",
       "3     0003_02     Europa     False  A/0/S  TRAPPIST-1e  33.0  False   \n",
       "4     0004_01      Earth     False  F/1/S  TRAPPIST-1e  16.0  False   \n",
       "\n",
       "   RoomService  FoodCourt  ShoppingMall     Spa  VRDeck               Name  \\\n",
       "0          0.0        0.0           0.0     0.0     0.0    Maham Ofracculy   \n",
       "1        109.0        9.0          25.0   549.0    44.0       Juanna Vines   \n",
       "2         43.0     3576.0           0.0  6715.0    49.0      Altark Susent   \n",
       "3          0.0     1283.0         371.0  3329.0   193.0       Solam Susent   \n",
       "4        303.0       70.0         151.0   565.0     2.0  Willy Santantines   \n",
       "\n",
       "   Transported  \n",
       "0        False  \n",
       "1         True  \n",
       "2        False  \n",
       "3        False  \n",
       "4         True  "
      ]
     },
     "execution_count": 21,
     "metadata": {},
     "output_type": "execute_result"
    }
   ],
   "source": [
    "train = pd.read_csv('data/train.csv')\n",
    "train.head()"
   ]
  },
  {
   "cell_type": "code",
   "execution_count": 22,
   "id": "b65d8e2e",
   "metadata": {},
   "outputs": [
    {
     "data": {
      "text/html": [
       "<div>\n",
       "<style scoped>\n",
       "    .dataframe tbody tr th:only-of-type {\n",
       "        vertical-align: middle;\n",
       "    }\n",
       "\n",
       "    .dataframe tbody tr th {\n",
       "        vertical-align: top;\n",
       "    }\n",
       "\n",
       "    .dataframe thead th {\n",
       "        text-align: right;\n",
       "    }\n",
       "</style>\n",
       "<table border=\"1\" class=\"dataframe\">\n",
       "  <thead>\n",
       "    <tr style=\"text-align: right;\">\n",
       "      <th></th>\n",
       "      <th>PassengerId</th>\n",
       "      <th>HomePlanet</th>\n",
       "      <th>CryoSleep</th>\n",
       "      <th>Cabin</th>\n",
       "      <th>Destination</th>\n",
       "      <th>Age</th>\n",
       "      <th>VIP</th>\n",
       "      <th>RoomService</th>\n",
       "      <th>FoodCourt</th>\n",
       "      <th>ShoppingMall</th>\n",
       "      <th>Spa</th>\n",
       "      <th>VRDeck</th>\n",
       "      <th>Name</th>\n",
       "    </tr>\n",
       "  </thead>\n",
       "  <tbody>\n",
       "    <tr>\n",
       "      <th>0</th>\n",
       "      <td>0013_01</td>\n",
       "      <td>Earth</td>\n",
       "      <td>True</td>\n",
       "      <td>G/3/S</td>\n",
       "      <td>TRAPPIST-1e</td>\n",
       "      <td>27.0</td>\n",
       "      <td>False</td>\n",
       "      <td>0.0</td>\n",
       "      <td>0.0</td>\n",
       "      <td>0.0</td>\n",
       "      <td>0.0</td>\n",
       "      <td>0.0</td>\n",
       "      <td>Nelly Carsoning</td>\n",
       "    </tr>\n",
       "    <tr>\n",
       "      <th>1</th>\n",
       "      <td>0018_01</td>\n",
       "      <td>Earth</td>\n",
       "      <td>False</td>\n",
       "      <td>F/4/S</td>\n",
       "      <td>TRAPPIST-1e</td>\n",
       "      <td>19.0</td>\n",
       "      <td>False</td>\n",
       "      <td>0.0</td>\n",
       "      <td>9.0</td>\n",
       "      <td>0.0</td>\n",
       "      <td>2823.0</td>\n",
       "      <td>0.0</td>\n",
       "      <td>Lerome Peckers</td>\n",
       "    </tr>\n",
       "    <tr>\n",
       "      <th>2</th>\n",
       "      <td>0019_01</td>\n",
       "      <td>Europa</td>\n",
       "      <td>True</td>\n",
       "      <td>C/0/S</td>\n",
       "      <td>55 Cancri e</td>\n",
       "      <td>31.0</td>\n",
       "      <td>False</td>\n",
       "      <td>0.0</td>\n",
       "      <td>0.0</td>\n",
       "      <td>0.0</td>\n",
       "      <td>0.0</td>\n",
       "      <td>0.0</td>\n",
       "      <td>Sabih Unhearfus</td>\n",
       "    </tr>\n",
       "    <tr>\n",
       "      <th>3</th>\n",
       "      <td>0021_01</td>\n",
       "      <td>Europa</td>\n",
       "      <td>False</td>\n",
       "      <td>C/1/S</td>\n",
       "      <td>TRAPPIST-1e</td>\n",
       "      <td>38.0</td>\n",
       "      <td>False</td>\n",
       "      <td>0.0</td>\n",
       "      <td>6652.0</td>\n",
       "      <td>0.0</td>\n",
       "      <td>181.0</td>\n",
       "      <td>585.0</td>\n",
       "      <td>Meratz Caltilter</td>\n",
       "    </tr>\n",
       "    <tr>\n",
       "      <th>4</th>\n",
       "      <td>0023_01</td>\n",
       "      <td>Earth</td>\n",
       "      <td>False</td>\n",
       "      <td>F/5/S</td>\n",
       "      <td>TRAPPIST-1e</td>\n",
       "      <td>20.0</td>\n",
       "      <td>False</td>\n",
       "      <td>10.0</td>\n",
       "      <td>0.0</td>\n",
       "      <td>635.0</td>\n",
       "      <td>0.0</td>\n",
       "      <td>0.0</td>\n",
       "      <td>Brence Harperez</td>\n",
       "    </tr>\n",
       "  </tbody>\n",
       "</table>\n",
       "</div>"
      ],
      "text/plain": [
       "  PassengerId HomePlanet CryoSleep  Cabin  Destination   Age    VIP  \\\n",
       "0     0013_01      Earth      True  G/3/S  TRAPPIST-1e  27.0  False   \n",
       "1     0018_01      Earth     False  F/4/S  TRAPPIST-1e  19.0  False   \n",
       "2     0019_01     Europa      True  C/0/S  55 Cancri e  31.0  False   \n",
       "3     0021_01     Europa     False  C/1/S  TRAPPIST-1e  38.0  False   \n",
       "4     0023_01      Earth     False  F/5/S  TRAPPIST-1e  20.0  False   \n",
       "\n",
       "   RoomService  FoodCourt  ShoppingMall     Spa  VRDeck              Name  \n",
       "0          0.0        0.0           0.0     0.0     0.0   Nelly Carsoning  \n",
       "1          0.0        9.0           0.0  2823.0     0.0    Lerome Peckers  \n",
       "2          0.0        0.0           0.0     0.0     0.0   Sabih Unhearfus  \n",
       "3          0.0     6652.0           0.0   181.0   585.0  Meratz Caltilter  \n",
       "4         10.0        0.0         635.0     0.0     0.0   Brence Harperez  "
      ]
     },
     "execution_count": 22,
     "metadata": {},
     "output_type": "execute_result"
    }
   ],
   "source": [
    "test = pd.read_csv('data/test.csv')\n",
    "#запомним id тестовой - он нужен для загрузки в kaggle, но при анализе удалится ввиду неинформативности для модели \n",
    "test_id = test.PassengerId\n",
    "test.head()"
   ]
  },
  {
   "cell_type": "markdown",
   "id": "1bfda8d9",
   "metadata": {},
   "source": [
    "## Основная информация о данных"
   ]
  },
  {
   "cell_type": "code",
   "execution_count": 23,
   "id": "199464ec",
   "metadata": {},
   "outputs": [
    {
     "name": "stdout",
     "output_type": "stream",
     "text": [
      "Форма тренировочной выборки: (8693, 14)\n",
      "Форма тестовой выборки: (4277, 13)\n"
     ]
    }
   ],
   "source": [
    "print('Форма тренировочной выборки: ' + str(train.shape))\n",
    "print('Форма тестовой выборки: ' + str(test.shape))"
   ]
  },
  {
   "cell_type": "code",
   "execution_count": 24,
   "id": "bba38230",
   "metadata": {},
   "outputs": [
    {
     "name": "stdout",
     "output_type": "stream",
     "text": [
      "<class 'pandas.core.frame.DataFrame'>\n",
      "RangeIndex: 8693 entries, 0 to 8692\n",
      "Data columns (total 14 columns):\n",
      " #   Column        Non-Null Count  Dtype  \n",
      "---  ------        --------------  -----  \n",
      " 0   PassengerId   8693 non-null   object \n",
      " 1   HomePlanet    8492 non-null   object \n",
      " 2   CryoSleep     8476 non-null   object \n",
      " 3   Cabin         8494 non-null   object \n",
      " 4   Destination   8511 non-null   object \n",
      " 5   Age           8514 non-null   float64\n",
      " 6   VIP           8490 non-null   object \n",
      " 7   RoomService   8512 non-null   float64\n",
      " 8   FoodCourt     8510 non-null   float64\n",
      " 9   ShoppingMall  8485 non-null   float64\n",
      " 10  Spa           8510 non-null   float64\n",
      " 11  VRDeck        8505 non-null   float64\n",
      " 12  Name          8493 non-null   object \n",
      " 13  Transported   8693 non-null   bool   \n",
      "dtypes: bool(1), float64(6), object(7)\n",
      "memory usage: 891.5+ KB\n"
     ]
    }
   ],
   "source": [
    "train.info()"
   ]
  },
  {
   "cell_type": "markdown",
   "id": "2c5ef0f6",
   "metadata": {},
   "source": [
    "Мы видим, что во всех признаках, кроме id и целевого, имеются пропущенные значения. Помимо этого, стоит разбить колонки PassengerId, Cabin (Destination - под вопросом, выясним позже в процессе анализа категориальных переменных) на несколько значений. И удалить колонку с именем и id пользователя внутри группы ввиду их неинформативности. "
   ]
  },
  {
   "cell_type": "markdown",
   "id": "bb0ef2dd",
   "metadata": {},
   "source": [
    "# Анализ целевой переменной"
   ]
  },
  {
   "cell_type": "markdown",
   "id": "58708fb4",
   "metadata": {},
   "source": [
    "Здесь мы рассмотрим на сколько сбалансированы наши классы целевой переменной"
   ]
  },
  {
   "cell_type": "code",
   "execution_count": 25,
   "id": "5f70c9c5",
   "metadata": {},
   "outputs": [
    {
     "data": {
      "text/plain": [
       "True     4378\n",
       "False    4315\n",
       "Name: Transported, dtype: int64"
      ]
     },
     "execution_count": 25,
     "metadata": {},
     "output_type": "execute_result"
    }
   ],
   "source": [
    "val_transp = train.Transported.value_counts()\n",
    "val_transp"
   ]
  },
  {
   "cell_type": "code",
   "execution_count": 26,
   "id": "d626b68a",
   "metadata": {},
   "outputs": [
    {
     "data": {
      "text/plain": [
       "4378"
      ]
     },
     "execution_count": 26,
     "metadata": {},
     "output_type": "execute_result"
    }
   ],
   "source": [
    "transp = train[train.Transported].shape[0]\n",
    "transp"
   ]
  },
  {
   "cell_type": "code",
   "execution_count": 27,
   "id": "a5915c3e",
   "metadata": {},
   "outputs": [
    {
     "data": {
      "text/plain": [
       "4315"
      ]
     },
     "execution_count": 27,
     "metadata": {},
     "output_type": "execute_result"
    }
   ],
   "source": [
    "not_transp = train[~train.Transported].shape[0]\n",
    "not_transp"
   ]
  },
  {
   "cell_type": "markdown",
   "id": "15f5e3c6",
   "metadata": {},
   "source": [
    "Воспользуемся  χ² для оценки равномерности распределения классов"
   ]
  },
  {
   "cell_type": "code",
   "execution_count": 28,
   "id": "a205ce9d",
   "metadata": {},
   "outputs": [
    {
     "name": "stdout",
     "output_type": "stream",
     "text": [
      "P-Value χ² теста между группами  = 0.49922936670420104\n",
      "\n"
     ]
    }
   ],
   "source": [
    "ChiSqResult = chisquare([transp,not_transp])\n",
    "print( f\"P-Value χ² теста между группами  = {ChiSqResult[1]}\\n\")"
   ]
  },
  {
   "cell_type": "markdown",
   "id": "ade5b705",
   "metadata": {},
   "source": [
    "По критерию χ² значения целевой переменной распределены равномерно, поэтому можно пользоваться метриками accuracy. В реальной задаче нам скорее потребовались метрики f beta score, где beta > 1, тк было бы важнее сделать акцент на полноте, а не точности (важно найти всех транспортировавшихся), но в данной соревновательной задаче нам важна именно точность предсказания и сведение ошибки к минимуму.\n",
    "\n",
    "Построим график распределения значений целевого признака"
   ]
  },
  {
   "cell_type": "code",
   "execution_count": 29,
   "id": "1b34493a",
   "metadata": {},
   "outputs": [
    {
     "data": {
      "text/plain": [
       "Text(0.5, 1.0, 'Количество различных значений целевой переменной')"
      ]
     },
     "execution_count": 29,
     "metadata": {},
     "output_type": "execute_result"
    },
    {
     "data": {
      "image/png": "[encoded data removed]",
      "text/plain": [
       "<Figure size 720x360 with 1 Axes>"
      ]
     },
     "metadata": {},
     "output_type": "display_data"
    }
   ],
   "source": [
    "sns.set(rc={\"figure.figsize\": (10, 5)})\n",
    "plt.barh(y=val_transp.index, width=val_transp.values, color=\"deepskyblue\")\n",
    "plt.title('Количество различных значений целевой переменной', fontsize=20)\n"
   ]
  },
  {
   "cell_type": "markdown",
   "id": "c8eb1a27",
   "metadata": {},
   "source": [
    "**Вывод: наши классы сбалансированы, разница между ними не существенна, в пределах статистической погрешности**"
   ]
  },
  {
   "cell_type": "markdown",
   "id": "bdd2e3dd",
   "metadata": {},
   "source": [
    "# Типы данных"
   ]
  },
  {
   "cell_type": "code",
   "execution_count": 30,
   "id": "9e22db1b",
   "metadata": {},
   "outputs": [
    {
     "data": {
      "text/plain": [
       "object     7\n",
       "float64    6\n",
       "bool       1\n",
       "dtype: int64"
      ]
     },
     "execution_count": 30,
     "metadata": {},
     "output_type": "execute_result"
    }
   ],
   "source": [
    "train.dtypes.value_counts()"
   ]
  },
  {
   "cell_type": "markdown",
   "id": "bdde0251",
   "metadata": {},
   "source": [
    "## Категориальные признаки"
   ]
  },
  {
   "cell_type": "markdown",
   "id": "8cadaa88",
   "metadata": {},
   "source": [
    "Посмотрим на датасет из одних категориальных признаков"
   ]
  },
  {
   "cell_type": "code",
   "execution_count": 31,
   "id": "36672423",
   "metadata": {},
   "outputs": [
    {
     "data": {
      "text/html": [
       "<div>\n",
       "<style scoped>\n",
       "    .dataframe tbody tr th:only-of-type {\n",
       "        vertical-align: middle;\n",
       "    }\n",
       "\n",
       "    .dataframe tbody tr th {\n",
       "        vertical-align: top;\n",
       "    }\n",
       "\n",
       "    .dataframe thead th {\n",
       "        text-align: right;\n",
       "    }\n",
       "</style>\n",
       "<table border=\"1\" class=\"dataframe\">\n",
       "  <thead>\n",
       "    <tr style=\"text-align: right;\">\n",
       "      <th></th>\n",
       "      <th>PassengerId</th>\n",
       "      <th>HomePlanet</th>\n",
       "      <th>CryoSleep</th>\n",
       "      <th>Cabin</th>\n",
       "      <th>Destination</th>\n",
       "      <th>VIP</th>\n",
       "      <th>Name</th>\n",
       "      <th>Transported</th>\n",
       "    </tr>\n",
       "  </thead>\n",
       "  <tbody>\n",
       "    <tr>\n",
       "      <th>0</th>\n",
       "      <td>0001_01</td>\n",
       "      <td>Europa</td>\n",
       "      <td>False</td>\n",
       "      <td>B/0/P</td>\n",
       "      <td>TRAPPIST-1e</td>\n",
       "      <td>False</td>\n",
       "      <td>Maham Ofracculy</td>\n",
       "      <td>False</td>\n",
       "    </tr>\n",
       "    <tr>\n",
       "      <th>1</th>\n",
       "      <td>0002_01</td>\n",
       "      <td>Earth</td>\n",
       "      <td>False</td>\n",
       "      <td>F/0/S</td>\n",
       "      <td>TRAPPIST-1e</td>\n",
       "      <td>False</td>\n",
       "      <td>Juanna Vines</td>\n",
       "      <td>True</td>\n",
       "    </tr>\n",
       "    <tr>\n",
       "      <th>2</th>\n",
       "      <td>0003_01</td>\n",
       "      <td>Europa</td>\n",
       "      <td>False</td>\n",
       "      <td>A/0/S</td>\n",
       "      <td>TRAPPIST-1e</td>\n",
       "      <td>True</td>\n",
       "      <td>Altark Susent</td>\n",
       "      <td>False</td>\n",
       "    </tr>\n",
       "    <tr>\n",
       "      <th>3</th>\n",
       "      <td>0003_02</td>\n",
       "      <td>Europa</td>\n",
       "      <td>False</td>\n",
       "      <td>A/0/S</td>\n",
       "      <td>TRAPPIST-1e</td>\n",
       "      <td>False</td>\n",
       "      <td>Solam Susent</td>\n",
       "      <td>False</td>\n",
       "    </tr>\n",
       "    <tr>\n",
       "      <th>4</th>\n",
       "      <td>0004_01</td>\n",
       "      <td>Earth</td>\n",
       "      <td>False</td>\n",
       "      <td>F/1/S</td>\n",
       "      <td>TRAPPIST-1e</td>\n",
       "      <td>False</td>\n",
       "      <td>Willy Santantines</td>\n",
       "      <td>True</td>\n",
       "    </tr>\n",
       "  </tbody>\n",
       "</table>\n",
       "</div>"
      ],
      "text/plain": [
       "  PassengerId HomePlanet CryoSleep  Cabin  Destination    VIP  \\\n",
       "0     0001_01     Europa     False  B/0/P  TRAPPIST-1e  False   \n",
       "1     0002_01      Earth     False  F/0/S  TRAPPIST-1e  False   \n",
       "2     0003_01     Europa     False  A/0/S  TRAPPIST-1e   True   \n",
       "3     0003_02     Europa     False  A/0/S  TRAPPIST-1e  False   \n",
       "4     0004_01      Earth     False  F/1/S  TRAPPIST-1e  False   \n",
       "\n",
       "                Name  Transported  \n",
       "0    Maham Ofracculy        False  \n",
       "1       Juanna Vines         True  \n",
       "2      Altark Susent        False  \n",
       "3       Solam Susent        False  \n",
       "4  Willy Santantines         True  "
      ]
     },
     "execution_count": 31,
     "metadata": {},
     "output_type": "execute_result"
    }
   ],
   "source": [
    "train_non_numeric = train.select_dtypes(exclude=[np.number])\n",
    "train_non_numeric.head()"
   ]
  },
  {
   "cell_type": "markdown",
   "id": "9f147ca5",
   "metadata": {},
   "source": [
    "Отберем нечисловые признаки"
   ]
  },
  {
   "cell_type": "code",
   "execution_count": 32,
   "id": "e6aadcc5",
   "metadata": {},
   "outputs": [
    {
     "name": "stdout",
     "output_type": "stream",
     "text": [
      "['PassengerId' 'HomePlanet' 'CryoSleep' 'Cabin' 'Destination' 'VIP' 'Name'\n",
      " 'Transported']\n"
     ]
    }
   ],
   "source": [
    "non_numeric_cols = train_non_numeric.columns.values\n",
    "print(non_numeric_cols)"
   ]
  },
  {
   "cell_type": "code",
   "execution_count": 33,
   "id": "fd0990c5",
   "metadata": {},
   "outputs": [
    {
     "name": "stdout",
     "output_type": "stream",
     "text": [
      "PassengerId ['0001_01' '0002_01' '0003_01' ... '9279_01' '9280_01' '9280_02']\n",
      "HomePlanet ['Europa' 'Earth' 'Mars' nan]\n",
      "CryoSleep [False True nan]\n",
      "Cabin ['B/0/P' 'F/0/S' 'A/0/S' ... 'G/1499/S' 'G/1500/S' 'E/608/S']\n",
      "Destination ['TRAPPIST-1e' 'PSO J318.5-22' '55 Cancri e' nan]\n",
      "VIP [False True nan]\n",
      "Name ['Maham Ofracculy' 'Juanna Vines' 'Altark Susent' ... 'Fayey Connon'\n",
      " 'Celeon Hontichre' 'Propsh Hontichre']\n",
      "Transported [False  True]\n"
     ]
    }
   ],
   "source": [
    "#должны посмотреть значения категориальных\n",
    "for col in train_non_numeric:\n",
    "    print(col, train[col].unique())"
   ]
  },
  {
   "cell_type": "markdown",
   "id": "3ecf18ca",
   "metadata": {},
   "source": [
    "Как писали выше в п.2.4 некоторые признаки уже можем преобразовать, Destination трогать не будем - значений не много, они не разбиваются по частям"
   ]
  },
  {
   "cell_type": "markdown",
   "id": "5086aae0",
   "metadata": {},
   "source": [
    "**Разбиение признаков PassengerId, Cabin на несколько**, но сначала проверим на дубликаты по PassengerId"
   ]
  },
  {
   "cell_type": "code",
   "execution_count": 34,
   "id": "500069b0",
   "metadata": {},
   "outputs": [
    {
     "name": "stdout",
     "output_type": "stream",
     "text": [
      "Количество повтоярющихся PassengerId: 0\n"
     ]
    }
   ],
   "source": [
    "print('Количество повтоярющихся PassengerId:', train.PassengerId.nunique() - train.shape[0])"
   ]
  },
  {
   "cell_type": "markdown",
   "id": "632c23d6",
   "metadata": {},
   "source": [
    "Номер человека внутри группы маловероятно, что несет в себе какю то полезную информацию, поэтому сохраним только номер группы пассажира от его PassengerId:"
   ]
  },
  {
   "cell_type": "code",
   "execution_count": 35,
   "id": "ba141f65",
   "metadata": {},
   "outputs": [],
   "source": [
    "train['Group'] = train.PassengerId.str.split('_').str[0]\n",
    "test['Group'] = test.PassengerId.str.split('_').str[0]"
   ]
  },
  {
   "cell_type": "code",
   "execution_count": 36,
   "id": "72919c6a",
   "metadata": {},
   "outputs": [
    {
     "data": {
      "text/plain": [
       "8688    9276\n",
       "8689    9278\n",
       "8690    9279\n",
       "8691    9280\n",
       "8692    9280\n",
       "Name: Group, dtype: object"
      ]
     },
     "execution_count": 36,
     "metadata": {},
     "output_type": "execute_result"
    }
   ],
   "source": [
    "train['Group'].tail()"
   ]
  },
  {
   "cell_type": "code",
   "execution_count": 37,
   "id": "718e6f6d",
   "metadata": {},
   "outputs": [
    {
     "data": {
      "text/plain": [
       "6217"
      ]
     },
     "execution_count": 37,
     "metadata": {},
     "output_type": "execute_result"
    }
   ],
   "source": [
    "train['Group'].nunique()"
   ]
  },
  {
   "cell_type": "markdown",
   "id": "fe31afb4",
   "metadata": {},
   "source": [
    "В тренировочной выборке всего 6217 групп пассажиров\n",
    "\n",
    "Теперь разобъем признак Cabin"
   ]
  },
  {
   "cell_type": "code",
   "execution_count": 38,
   "id": "75026cab",
   "metadata": {},
   "outputs": [],
   "source": [
    "for i, col in enumerate(['Deck', 'Number', 'Side']):\n",
    "    train['Cabin' + col] = train.Cabin.str.split('/').str[i]\n",
    "    test['Cabin' + col] = test.Cabin.str.split('/').str[i]\n"
   ]
  },
  {
   "cell_type": "markdown",
   "id": "0699040f",
   "metadata": {},
   "source": [
    "Получившиеся признаки CabinNumber и Group приведем к численному типу:"
   ]
  },
  {
   "cell_type": "code",
   "execution_count": 39,
   "id": "6235d2dd",
   "metadata": {},
   "outputs": [
    {
     "data": {
      "text/html": [
       "<div>\n",
       "<style scoped>\n",
       "    .dataframe tbody tr th:only-of-type {\n",
       "        vertical-align: middle;\n",
       "    }\n",
       "\n",
       "    .dataframe tbody tr th {\n",
       "        vertical-align: top;\n",
       "    }\n",
       "\n",
       "    .dataframe thead th {\n",
       "        text-align: right;\n",
       "    }\n",
       "</style>\n",
       "<table border=\"1\" class=\"dataframe\">\n",
       "  <thead>\n",
       "    <tr style=\"text-align: right;\">\n",
       "      <th></th>\n",
       "      <th>PassengerId</th>\n",
       "      <th>HomePlanet</th>\n",
       "      <th>CryoSleep</th>\n",
       "      <th>Cabin</th>\n",
       "      <th>Destination</th>\n",
       "      <th>Age</th>\n",
       "      <th>VIP</th>\n",
       "      <th>RoomService</th>\n",
       "      <th>FoodCourt</th>\n",
       "      <th>ShoppingMall</th>\n",
       "      <th>Spa</th>\n",
       "      <th>VRDeck</th>\n",
       "      <th>Name</th>\n",
       "      <th>Transported</th>\n",
       "      <th>Group</th>\n",
       "      <th>CabinDeck</th>\n",
       "      <th>CabinNumber</th>\n",
       "      <th>CabinSide</th>\n",
       "    </tr>\n",
       "  </thead>\n",
       "  <tbody>\n",
       "    <tr>\n",
       "      <th>0</th>\n",
       "      <td>0001_01</td>\n",
       "      <td>Europa</td>\n",
       "      <td>False</td>\n",
       "      <td>B/0/P</td>\n",
       "      <td>TRAPPIST-1e</td>\n",
       "      <td>39.0</td>\n",
       "      <td>False</td>\n",
       "      <td>0.0</td>\n",
       "      <td>0.0</td>\n",
       "      <td>0.0</td>\n",
       "      <td>0.0</td>\n",
       "      <td>0.0</td>\n",
       "      <td>Maham Ofracculy</td>\n",
       "      <td>False</td>\n",
       "      <td>1</td>\n",
       "      <td>B</td>\n",
       "      <td>0.0</td>\n",
       "      <td>P</td>\n",
       "    </tr>\n",
       "    <tr>\n",
       "      <th>1</th>\n",
       "      <td>0002_01</td>\n",
       "      <td>Earth</td>\n",
       "      <td>False</td>\n",
       "      <td>F/0/S</td>\n",
       "      <td>TRAPPIST-1e</td>\n",
       "      <td>24.0</td>\n",
       "      <td>False</td>\n",
       "      <td>109.0</td>\n",
       "      <td>9.0</td>\n",
       "      <td>25.0</td>\n",
       "      <td>549.0</td>\n",
       "      <td>44.0</td>\n",
       "      <td>Juanna Vines</td>\n",
       "      <td>True</td>\n",
       "      <td>2</td>\n",
       "      <td>F</td>\n",
       "      <td>0.0</td>\n",
       "      <td>S</td>\n",
       "    </tr>\n",
       "    <tr>\n",
       "      <th>2</th>\n",
       "      <td>0003_01</td>\n",
       "      <td>Europa</td>\n",
       "      <td>False</td>\n",
       "      <td>A/0/S</td>\n",
       "      <td>TRAPPIST-1e</td>\n",
       "      <td>58.0</td>\n",
       "      <td>True</td>\n",
       "      <td>43.0</td>\n",
       "      <td>3576.0</td>\n",
       "      <td>0.0</td>\n",
       "      <td>6715.0</td>\n",
       "      <td>49.0</td>\n",
       "      <td>Altark Susent</td>\n",
       "      <td>False</td>\n",
       "      <td>3</td>\n",
       "      <td>A</td>\n",
       "      <td>0.0</td>\n",
       "      <td>S</td>\n",
       "    </tr>\n",
       "    <tr>\n",
       "      <th>3</th>\n",
       "      <td>0003_02</td>\n",
       "      <td>Europa</td>\n",
       "      <td>False</td>\n",
       "      <td>A/0/S</td>\n",
       "      <td>TRAPPIST-1e</td>\n",
       "      <td>33.0</td>\n",
       "      <td>False</td>\n",
       "      <td>0.0</td>\n",
       "      <td>1283.0</td>\n",
       "      <td>371.0</td>\n",
       "      <td>3329.0</td>\n",
       "      <td>193.0</td>\n",
       "      <td>Solam Susent</td>\n",
       "      <td>False</td>\n",
       "      <td>3</td>\n",
       "      <td>A</td>\n",
       "      <td>0.0</td>\n",
       "      <td>S</td>\n",
       "    </tr>\n",
       "    <tr>\n",
       "      <th>4</th>\n",
       "      <td>0004_01</td>\n",
       "      <td>Earth</td>\n",
       "      <td>False</td>\n",
       "      <td>F/1/S</td>\n",
       "      <td>TRAPPIST-1e</td>\n",
       "      <td>16.0</td>\n",
       "      <td>False</td>\n",
       "      <td>303.0</td>\n",
       "      <td>70.0</td>\n",
       "      <td>151.0</td>\n",
       "      <td>565.0</td>\n",
       "      <td>2.0</td>\n",
       "      <td>Willy Santantines</td>\n",
       "      <td>True</td>\n",
       "      <td>4</td>\n",
       "      <td>F</td>\n",
       "      <td>1.0</td>\n",
       "      <td>S</td>\n",
       "    </tr>\n",
       "  </tbody>\n",
       "</table>\n",
       "</div>"
      ],
      "text/plain": [
       "  PassengerId HomePlanet CryoSleep  Cabin  Destination   Age    VIP  \\\n",
       "0     0001_01     Europa     False  B/0/P  TRAPPIST-1e  39.0  False   \n",
       "1     0002_01      Earth     False  F/0/S  TRAPPIST-1e  24.0  False   \n",
       "2     0003_01     Europa     False  A/0/S  TRAPPIST-1e  58.0   True   \n",
       "3     0003_02     Europa     False  A/0/S  TRAPPIST-1e  33.0  False   \n",
       "4     0004_01      Earth     False  F/1/S  TRAPPIST-1e  16.0  False   \n",
       "\n",
       "   RoomService  FoodCourt  ShoppingMall     Spa  VRDeck               Name  \\\n",
       "0          0.0        0.0           0.0     0.0     0.0    Maham Ofracculy   \n",
       "1        109.0        9.0          25.0   549.0    44.0       Juanna Vines   \n",
       "2         43.0     3576.0           0.0  6715.0    49.0      Altark Susent   \n",
       "3          0.0     1283.0         371.0  3329.0   193.0       Solam Susent   \n",
       "4        303.0       70.0         151.0   565.0     2.0  Willy Santantines   \n",
       "\n",
       "   Transported  Group CabinDeck  CabinNumber CabinSide  \n",
       "0        False      1         B          0.0         P  \n",
       "1         True      2         F          0.0         S  \n",
       "2        False      3         A          0.0         S  \n",
       "3        False      3         A          0.0         S  \n",
       "4         True      4         F          1.0         S  "
      ]
     },
     "execution_count": 39,
     "metadata": {},
     "output_type": "execute_result"
    }
   ],
   "source": [
    "col_for_change_to_int = ['CabinNumber', 'Group']\n",
    "for col in col_for_change_to_int:\n",
    "    train[col] = pd.to_numeric(train[col], downcast='integer')\n",
    "    test[col] = pd.to_numeric(test[col], downcast='integer')\n",
    "train.head()"
   ]
  },
  {
   "cell_type": "markdown",
   "id": "68424f57",
   "metadata": {},
   "source": [
    "**Удалим ненужные признаки**\n"
   ]
  },
  {
   "cell_type": "code",
   "execution_count": 40,
   "id": "d2d7242a",
   "metadata": {},
   "outputs": [],
   "source": [
    "col_for_del = ['PassengerId', 'Cabin', 'Name']\n",
    "train = train.drop(col_for_del, axis=1)\n",
    "test = test.drop(col_for_del, axis=1)"
   ]
  },
  {
   "cell_type": "markdown",
   "id": "bf632c8f",
   "metadata": {},
   "source": [
    "Мы провели необходимые преобразования категориальных признаков, проведем проверку, что формы тренировочной и тестовой выборок совпадают:"
   ]
  },
  {
   "cell_type": "code",
   "execution_count": 41,
   "id": "f791dc10",
   "metadata": {},
   "outputs": [
    {
     "name": "stdout",
     "output_type": "stream",
     "text": [
      "Форма тренировочной выборки: (8693, 15)\n",
      "Форма тестовой выборки: (4277, 14)\n"
     ]
    }
   ],
   "source": [
    "print('Форма тренировочной выборки:', str(train.shape))\n",
    "print('Форма тестовой выборки:', str(test.shape))"
   ]
  },
  {
   "cell_type": "markdown",
   "id": "da66bdba",
   "metadata": {},
   "source": [
    "Количество признаков тренировочной на 1 больше, тк там целевая. Более подробную проверку на совпадение признаков будем делать позже, перед подбором моделей"
   ]
  },
  {
   "cell_type": "markdown",
   "id": "03cc5e7e",
   "metadata": {},
   "source": [
    "## Числовые признаки"
   ]
  },
  {
   "cell_type": "code",
   "execution_count": 42,
   "id": "fd62f32a",
   "metadata": {},
   "outputs": [
    {
     "data": {
      "text/html": [
       "<div>\n",
       "<style scoped>\n",
       "    .dataframe tbody tr th:only-of-type {\n",
       "        vertical-align: middle;\n",
       "    }\n",
       "\n",
       "    .dataframe tbody tr th {\n",
       "        vertical-align: top;\n",
       "    }\n",
       "\n",
       "    .dataframe thead th {\n",
       "        text-align: right;\n",
       "    }\n",
       "</style>\n",
       "<table border=\"1\" class=\"dataframe\">\n",
       "  <thead>\n",
       "    <tr style=\"text-align: right;\">\n",
       "      <th></th>\n",
       "      <th>Age</th>\n",
       "      <th>RoomService</th>\n",
       "      <th>FoodCourt</th>\n",
       "      <th>ShoppingMall</th>\n",
       "      <th>Spa</th>\n",
       "      <th>VRDeck</th>\n",
       "      <th>Group</th>\n",
       "      <th>CabinNumber</th>\n",
       "    </tr>\n",
       "  </thead>\n",
       "  <tbody>\n",
       "    <tr>\n",
       "      <th>0</th>\n",
       "      <td>39.0</td>\n",
       "      <td>0.0</td>\n",
       "      <td>0.0</td>\n",
       "      <td>0.0</td>\n",
       "      <td>0.0</td>\n",
       "      <td>0.0</td>\n",
       "      <td>1</td>\n",
       "      <td>0.0</td>\n",
       "    </tr>\n",
       "    <tr>\n",
       "      <th>1</th>\n",
       "      <td>24.0</td>\n",
       "      <td>109.0</td>\n",
       "      <td>9.0</td>\n",
       "      <td>25.0</td>\n",
       "      <td>549.0</td>\n",
       "      <td>44.0</td>\n",
       "      <td>2</td>\n",
       "      <td>0.0</td>\n",
       "    </tr>\n",
       "    <tr>\n",
       "      <th>2</th>\n",
       "      <td>58.0</td>\n",
       "      <td>43.0</td>\n",
       "      <td>3576.0</td>\n",
       "      <td>0.0</td>\n",
       "      <td>6715.0</td>\n",
       "      <td>49.0</td>\n",
       "      <td>3</td>\n",
       "      <td>0.0</td>\n",
       "    </tr>\n",
       "    <tr>\n",
       "      <th>3</th>\n",
       "      <td>33.0</td>\n",
       "      <td>0.0</td>\n",
       "      <td>1283.0</td>\n",
       "      <td>371.0</td>\n",
       "      <td>3329.0</td>\n",
       "      <td>193.0</td>\n",
       "      <td>3</td>\n",
       "      <td>0.0</td>\n",
       "    </tr>\n",
       "    <tr>\n",
       "      <th>4</th>\n",
       "      <td>16.0</td>\n",
       "      <td>303.0</td>\n",
       "      <td>70.0</td>\n",
       "      <td>151.0</td>\n",
       "      <td>565.0</td>\n",
       "      <td>2.0</td>\n",
       "      <td>4</td>\n",
       "      <td>1.0</td>\n",
       "    </tr>\n",
       "  </tbody>\n",
       "</table>\n",
       "</div>"
      ],
      "text/plain": [
       "    Age  RoomService  FoodCourt  ShoppingMall     Spa  VRDeck  Group  \\\n",
       "0  39.0          0.0        0.0           0.0     0.0     0.0      1   \n",
       "1  24.0        109.0        9.0          25.0   549.0    44.0      2   \n",
       "2  58.0         43.0     3576.0           0.0  6715.0    49.0      3   \n",
       "3  33.0          0.0     1283.0         371.0  3329.0   193.0      3   \n",
       "4  16.0        303.0       70.0         151.0   565.0     2.0      4   \n",
       "\n",
       "   CabinNumber  \n",
       "0          0.0  \n",
       "1          0.0  \n",
       "2          0.0  \n",
       "3          0.0  \n",
       "4          1.0  "
      ]
     },
     "execution_count": 42,
     "metadata": {},
     "output_type": "execute_result"
    }
   ],
   "source": [
    "# отбор числовых колонок\n",
    "train_numeric = train.select_dtypes(include=[np.number])\n",
    "train_numeric.head()"
   ]
  },
  {
   "cell_type": "code",
   "execution_count": 43,
   "id": "9483d716",
   "metadata": {},
   "outputs": [
    {
     "name": "stdout",
     "output_type": "stream",
     "text": [
      "['Age' 'RoomService' 'FoodCourt' 'ShoppingMall' 'Spa' 'VRDeck' 'Group'\n",
      " 'CabinNumber']\n"
     ]
    }
   ],
   "source": [
    "numeric_cols = train_numeric.columns.values\n",
    "print(numeric_cols)"
   ]
  },
  {
   "cell_type": "markdown",
   "id": "a5e73f08",
   "metadata": {},
   "source": [
    "нужно посмотреть нет ли среди числовых признаков на самом деле категориальных"
   ]
  },
  {
   "cell_type": "code",
   "execution_count": 44,
   "id": "0d1a3642",
   "metadata": {},
   "outputs": [
    {
     "data": {
      "image/png": "[encoded data removed]",
      "text/plain": [
       "<Figure size 864x360 with 1 Axes>"
      ]
     },
     "metadata": {},
     "output_type": "display_data"
    }
   ],
   "source": [
    "train_numeric_count = train_numeric.nunique().sort_values()\n",
    "plt.figure(figsize=(12,5))\n",
    "plt.barh(y=train_numeric_count.index, width=train_numeric_count.values, color=COLOR_PLOT)\n",
    "plt.title('Количество уникальных значений в числовых признаках', fontsize=20)\n",
    "for i, v in enumerate(train_numeric_count.values):\n",
    "    plt.text(v+10, i - .2, str(v), color='k')"
   ]
  },
  {
   "cell_type": "markdown",
   "id": "86e151b8",
   "metadata": {},
   "source": [
    "По графику делаем вывод, что категориальных нет среди численных, тк очень много различных значений"
   ]
  },
  {
   "cell_type": "markdown",
   "id": "0553b00a",
   "metadata": {},
   "source": [
    "**Сформируем окончательные массивы с категориальными и численными признаками**"
   ]
  },
  {
   "cell_type": "code",
   "execution_count": 45,
   "id": "97ca61a5",
   "metadata": {},
   "outputs": [],
   "source": [
    "non_numeric_cols = [col for col in train.select_dtypes(exclude=[np.number]).columns.values if col != 'Transported']\n",
    "numeric_cols = train.select_dtypes(include=[np.number]).columns.values\n"
   ]
  },
  {
   "cell_type": "markdown",
   "id": "3152245f",
   "metadata": {},
   "source": [
    "# Анализ категориальных переменных"
   ]
  },
  {
   "cell_type": "markdown",
   "id": "621b0d7a",
   "metadata": {},
   "source": [
    "## Распределение признаков"
   ]
  },
  {
   "cell_type": "code",
   "execution_count": 46,
   "id": "9e532641",
   "metadata": {},
   "outputs": [
    {
     "data": {
      "image/png": "[encoded data removed]",
      "text/plain": [
       "<Figure size 864x720 with 6 Axes>"
      ]
     },
     "metadata": {},
     "output_type": "display_data"
    }
   ],
   "source": [
    "fig, axes = plt.subplots(ceil(len(non_numeric_cols)/3), 3, figsize=(12,10))\n",
    "for y, col in enumerate(non_numeric_cols):\n",
    "    i, j = divmod(y, 3)\n",
    "    sns.countplot(data=train, x=col, alpha=0.7, ax=axes[i,j])\n",
    "fig.tight_layout()"
   ]
  },
  {
   "cell_type": "markdown",
   "id": "1adcd6b1",
   "metadata": {},
   "source": [
    "Видим, что признак VIP = 1 довольно редко, возможно, его нужно будет исключить из анализа, но прежде посмотрим как влияют разные значения категориальных признаков на целевой признак"
   ]
  },
  {
   "cell_type": "markdown",
   "id": "53d5845c",
   "metadata": {},
   "source": [
    "## Влияние признаков на целевую переменную"
   ]
  },
  {
   "cell_type": "code",
   "execution_count": 47,
   "id": "8fb083c8",
   "metadata": {},
   "outputs": [
    {
     "data": {
      "image/png": "[encoded data removed]",
      "text/plain": [
       "<Figure size 1440x1440 with 6 Axes>"
      ]
     },
     "metadata": {},
     "output_type": "display_data"
    }
   ],
   "source": [
    "fig, axes = plt.subplots(ceil(len(non_numeric_cols)/3), 3, figsize=(20,20))\n",
    "for y, col in enumerate(non_numeric_cols):\n",
    "    i, j = divmod(y, 3)\n",
    "    sns.countplot(data=train, x=col, hue='Transported', alpha=0.7, ax=axes[i,j])\n"
   ]
  },
  {
   "cell_type": "markdown",
   "id": "148c6f11",
   "metadata": {},
   "source": [
    "По графикам можем сделать следующие выводы:\n",
    " + HomePlanet: для Earth больше шансов НЕ транспортироваться, в то время как для Europa - наоборот, а вот для марсиан шансы примерно равны\n",
    " + CryoSleep: большинство впавших в спячку были транспортированы, иначе - наоборот\n",
    " + Destination, VIP - по графикам не понятно на сколько значима разница, нужно провести χ² тест\n",
    " + CabinDeck и CabinSide разница визуально виднеется\n",
    " \n",
    "Позже мы изучим влияние Destination, VIP на целевую, но прежде изучим отсутствующие данные"
   ]
  },
  {
   "cell_type": "markdown",
   "id": "cbe7c140",
   "metadata": {},
   "source": [
    "## Модификация признаков с NaN"
   ]
  },
  {
   "cell_type": "markdown",
   "id": "dcc575ac",
   "metadata": {},
   "source": [
    "Для начала рассмотрим какое количество пропущенных значений"
   ]
  },
  {
   "cell_type": "code",
   "execution_count": 48,
   "id": "08efc2b0",
   "metadata": {},
   "outputs": [
    {
     "data": {
      "text/plain": [
       "['HomePlanet', 'CryoSleep', 'Destination', 'VIP', 'CabinDeck', 'CabinSide']"
      ]
     },
     "execution_count": 48,
     "metadata": {},
     "output_type": "execute_result"
    }
   ],
   "source": [
    "# выведем колонки с пропущенными значениями\n",
    "col_cat_sum_na = train[non_numeric_cols].isna().sum()\n",
    "col_cat_with_na = col_cat_sum_na[col_cat_sum_na>0].index.to_list()\n",
    "col_cat_with_na"
   ]
  },
  {
   "cell_type": "code",
   "execution_count": 49,
   "id": "29775090",
   "metadata": {},
   "outputs": [
    {
     "data": {
      "text/plain": [
       "HomePlanet     201\n",
       "CryoSleep      217\n",
       "Destination    182\n",
       "VIP            203\n",
       "CabinDeck      199\n",
       "CabinSide      199\n",
       "dtype: int64"
      ]
     },
     "execution_count": 49,
     "metadata": {},
     "output_type": "execute_result"
    }
   ],
   "source": [
    "# выведем количество пропущенных значений\n",
    "train[col_cat_with_na].isna().sum()"
   ]
  },
  {
   "cell_type": "markdown",
   "id": "5e65976e",
   "metadata": {},
   "source": [
    "Построим график процентого соотношения отсутствующих данных в данных колонках"
   ]
  },
  {
   "cell_type": "code",
   "execution_count": 50,
   "id": "50e48ff0",
   "metadata": {},
   "outputs": [
    {
     "data": {
      "text/plain": [
       "Text(0, 0.5, 'Признак\\n')"
      ]
     },
     "execution_count": 50,
     "metadata": {},
     "output_type": "execute_result"
    },
    {
     "data": {
      "image/png": "[encoded data removed]",
      "text/plain": [
       "<Figure size 720x504 with 1 Axes>"
      ]
     },
     "metadata": {},
     "output_type": "display_data"
    }
   ],
   "source": [
    "column_name = []\n",
    "percent_nan = []\n",
    "for i in col_cat_with_na:\n",
    "    column_name.append(i)\n",
    "    percent_nan.append(round(train[i].isna().sum()*100/len(train[i]), 2))\n",
    "    \n",
    "tab = pd.DataFrame({\"Column\": column_name, \"Percent_NaN\": percent_nan})\n",
    "tab.sort_values(by=[\"Percent_NaN\"], ascending=False, inplace=True)\n",
    "\n",
    "sns.set(rc={\"figure.figsize\": (10, 7)})\n",
    "\n",
    "p = sns.barplot(x=\"Percent_NaN\", y=\"Column\", data=tab,\n",
    "                edgecolor=\"black\", color=\"deepskyblue\")\n",
    "p.set_title(\"Процент NaN значений в тренировочной выборке\\n\", fontsize=20)\n",
    "p.set_xlabel(\"\\nПроцент NaN (%)\")\n",
    "p.set_ylabel(\"Признак\\n\")"
   ]
  },
  {
   "cell_type": "markdown",
   "id": "bab50c44",
   "metadata": {},
   "source": [
    "Процент пропущенных значений не велик. Заменим их на медианы"
   ]
  },
  {
   "cell_type": "code",
   "execution_count": 51,
   "id": "8e243928",
   "metadata": {},
   "outputs": [],
   "source": [
    "for col in col_cat_with_na:\n",
    "    train[col] = train[col].fillna(train[col].mode().iloc[0])"
   ]
  },
  {
   "cell_type": "code",
   "execution_count": 52,
   "id": "8ca7122d",
   "metadata": {},
   "outputs": [
    {
     "data": {
      "text/plain": [
       "HomePlanet     0\n",
       "CryoSleep      0\n",
       "Destination    0\n",
       "VIP            0\n",
       "CabinDeck      0\n",
       "CabinSide      0\n",
       "dtype: int64"
      ]
     },
     "execution_count": 52,
     "metadata": {},
     "output_type": "execute_result"
    }
   ],
   "source": [
    "#проверими, что нет отсутствующих значений\n",
    "train[col_cat_with_na].isna().sum()"
   ]
  },
  {
   "cell_type": "markdown",
   "id": "eebe25f4",
   "metadata": {},
   "source": [
    "## Проверка зависимости целевой переменной "
   ]
  },
  {
   "cell_type": "markdown",
   "id": "8ad8a335",
   "metadata": {},
   "source": [
    "**Проведем χ² тест для того, чтоб понять на сколько равномерно распределение целевого признака по значениям Destination, VIP**"
   ]
  },
  {
   "cell_type": "code",
   "execution_count": 53,
   "id": "d0035ae0",
   "metadata": {},
   "outputs": [
    {
     "name": "stdout",
     "output_type": "stream",
     "text": [
      "P-Value χ² теста между группами Destination и Transported = 1.1947894351445014e-23\n",
      "\n",
      "P-Value χ² теста между группами VIP и Transported = 0.0006681023600149099\n",
      "\n"
     ]
    }
   ],
   "source": [
    "cols = ['Destination', 'VIP']\n",
    "for col in cols:\n",
    "    CrosstabResult = pd.crosstab(index=train[col], columns=train['Transported'])\n",
    "    ChiSqResult = chi2_contingency(CrosstabResult)\n",
    "    print(\n",
    "        f\"P-Value χ² теста между группами {col} и Transported = {ChiSqResult[1]}\\n\")\n",
    "    \n"
   ]
  },
  {
   "cell_type": "markdown",
   "id": "176c6706",
   "metadata": {},
   "source": [
    "Тест показал, что зависимость имеется, поэтому оставим данные признаки"
   ]
  },
  {
   "cell_type": "markdown",
   "id": "f614669a",
   "metadata": {},
   "source": [
    "## Взаимосвязь между признаками"
   ]
  },
  {
   "cell_type": "markdown",
   "id": "95da88c7",
   "metadata": {},
   "source": [
    "Посмотрим на графиках, как связаны некоторые категориальные признаки друг с другом"
   ]
  },
  {
   "cell_type": "markdown",
   "id": "5f9c0ef5",
   "metadata": {},
   "source": [
    "**HomePlanet**"
   ]
  },
  {
   "cell_type": "code",
   "execution_count": 54,
   "id": "0985caee",
   "metadata": {},
   "outputs": [
    {
     "data": {
      "image/png": "[encoded data removed]",
      "text/plain": [
       "<Figure size 1440x360 with 3 Axes>"
      ]
     },
     "metadata": {},
     "output_type": "display_data"
    }
   ],
   "source": [
    "cols = ['CryoSleep', 'Destination', 'VIP']\n",
    "fig, axes = plt.subplots(ncols=3, figsize=(20,5))\n",
    "for y, col in enumerate(cols):\n",
    "    sns.countplot(data=train, x=col, hue='HomePlanet', alpha=0.7, ax=axes[y])"
   ]
  },
  {
   "cell_type": "markdown",
   "id": "7795ff86",
   "metadata": {},
   "source": [
    "Анализ данных графиков и графиков из п.5.1 показал, что КриоСон выбирают примерно одинаково независимо от родной планеты, а вот направления определенно зависят от HomePlanet, как и выбор VIP. Проведем χ² тест"
   ]
  },
  {
   "cell_type": "code",
   "execution_count": 55,
   "id": "b60ba3f5",
   "metadata": {},
   "outputs": [
    {
     "name": "stdout",
     "output_type": "stream",
     "text": [
      "P-Value χ² теста между группами HomePlanet и Destination = 3.2783690516910283e-246\n",
      "\n",
      "P-Value χ² теста между группами HomePlanet и VIP = 1.2320170249145718e-56\n",
      "\n"
     ]
    }
   ],
   "source": [
    "X = [\"HomePlanet\", \"HomePlanet\"]\n",
    "Y = [\"Destination\", \"VIP\"]\n",
    "    \n",
    "ksi(train, X, Y)"
   ]
  },
  {
   "cell_type": "markdown",
   "id": "07de2b21",
   "metadata": {},
   "source": [
    "Тест показал, что распределение действительно неравномерно"
   ]
  },
  {
   "cell_type": "markdown",
   "id": "a20838b0",
   "metadata": {},
   "source": [
    "**CryoSleep**"
   ]
  },
  {
   "cell_type": "code",
   "execution_count": 56,
   "id": "fc857454",
   "metadata": {},
   "outputs": [
    {
     "data": {
      "image/png": "[encoded data removed]",
      "text/plain": [
       "<Figure size 1440x360 with 2 Axes>"
      ]
     },
     "metadata": {},
     "output_type": "display_data"
    }
   ],
   "source": [
    "cols = ['Destination', 'VIP']\n",
    "fig, axes = plt.subplots(ncols=2, figsize=(20,5))\n",
    "for y, col in enumerate(cols):\n",
    "    sns.countplot(data=train, x=col, hue='CryoSleep', alpha=0.7, ax=axes[y])"
   ]
  },
  {
   "cell_type": "markdown",
   "id": "d5fd1636",
   "metadata": {},
   "source": [
    "По графикам наблюдаем зависимость КриптоСна от приведенных признаков. Например, реже всего криптосон нвыбирают на направлении TRAPPIST-1e,  а чаще всего по напрвлению PSO J318.5-22, здесь соотвношение спящих к неспящим примерно 1 к 1. Так же интересно заметить, что VIP практически не выбирают КриптоСон (всего 21 таких наблюдений - 10,6% от всех VIP):"
   ]
  },
  {
   "cell_type": "code",
   "execution_count": 57,
   "id": "d597960f",
   "metadata": {},
   "outputs": [
    {
     "data": {
      "text/plain": [
       "0.10552763819095477"
      ]
     },
     "execution_count": 57,
     "metadata": {},
     "output_type": "execute_result"
    }
   ],
   "source": [
    "len(train[train.CryoSleep & train.VIP])/len(train[train.VIP])"
   ]
  },
  {
   "cell_type": "markdown",
   "id": "614fc502",
   "metadata": {},
   "source": [
    "**Destination**\n"
   ]
  },
  {
   "cell_type": "code",
   "execution_count": 58,
   "id": "757c4dfe",
   "metadata": {},
   "outputs": [
    {
     "data": {
      "text/plain": [
       "<AxesSubplot:xlabel='VIP', ylabel='count'>"
      ]
     },
     "execution_count": 58,
     "metadata": {},
     "output_type": "execute_result"
    },
    {
     "data": {
      "image/png": "[encoded data removed]",
      "text/plain": [
       "<Figure size 720x360 with 1 Axes>"
      ]
     },
     "metadata": {},
     "output_type": "display_data"
    }
   ],
   "source": [
    "plt.figure(figsize=(10,5))\n",
    "sns.countplot(data=train, x='VIP', hue='Destination', alpha=0.7)"
   ]
  },
  {
   "cell_type": "markdown",
   "id": "a6b26fb7",
   "metadata": {},
   "source": [
    "По данному графику складывается впечатление, что эти признаки не обладают большой связью"
   ]
  },
  {
   "cell_type": "markdown",
   "id": "d6b3b425",
   "metadata": {},
   "source": [
    "##  Модификация тестовой выборки"
   ]
  },
  {
   "cell_type": "code",
   "execution_count": 59,
   "id": "6ccdb11e",
   "metadata": {},
   "outputs": [
    {
     "data": {
      "text/plain": [
       "['HomePlanet', 'CryoSleep', 'Destination', 'VIP', 'CabinDeck', 'CabinSide']"
      ]
     },
     "execution_count": 59,
     "metadata": {},
     "output_type": "execute_result"
    }
   ],
   "source": [
    "# выведем колонки с пропущенными значениями\n",
    "col_cat_sum_na = test[non_numeric_cols].isna().sum()\n",
    "col_cat_with_na = col_cat_sum_na[col_cat_sum_na>0].index.to_list()\n",
    "col_cat_with_na"
   ]
  },
  {
   "cell_type": "code",
   "execution_count": 60,
   "id": "c4065c41",
   "metadata": {},
   "outputs": [
    {
     "data": {
      "text/plain": [
       "HomePlanet      87\n",
       "CryoSleep       93\n",
       "Destination     92\n",
       "VIP             93\n",
       "CabinDeck      100\n",
       "CabinSide      100\n",
       "dtype: int64"
      ]
     },
     "execution_count": 60,
     "metadata": {},
     "output_type": "execute_result"
    }
   ],
   "source": [
    "# выведем количество пропущенных значений\n",
    "test[col_cat_with_na].isna().sum()"
   ]
  },
  {
   "cell_type": "markdown",
   "id": "270f4caa",
   "metadata": {},
   "source": [
    "Количество пропущенных значений невелико, произведем замену:"
   ]
  },
  {
   "cell_type": "code",
   "execution_count": 61,
   "id": "11f8ef1c",
   "metadata": {},
   "outputs": [],
   "source": [
    "for col in col_cat_with_na:\n",
    "    test[col] = test[col].fillna(test[col].mode().iloc[0])"
   ]
  },
  {
   "cell_type": "code",
   "execution_count": 62,
   "id": "32f9c242",
   "metadata": {},
   "outputs": [
    {
     "data": {
      "text/plain": [
       "0"
      ]
     },
     "execution_count": 62,
     "metadata": {},
     "output_type": "execute_result"
    }
   ],
   "source": [
    "#проверими, что нет отсутствующих значений\n",
    "train[col_cat_with_na].isna().sum().sum()"
   ]
  },
  {
   "cell_type": "markdown",
   "id": "5e6221b3",
   "metadata": {},
   "source": [
    "Далее мы проведем кодировку категориальных признаков, тк в анализе числовых признаков мы будем заполнять пропущенные значения методами машинного обучения"
   ]
  },
  {
   "cell_type": "markdown",
   "id": "a95e04f0",
   "metadata": {},
   "source": [
    "## Кодирование категориальных признаков"
   ]
  },
  {
   "cell_type": "code",
   "execution_count": 63,
   "id": "d3d1118d",
   "metadata": {},
   "outputs": [
    {
     "name": "stdout",
     "output_type": "stream",
     "text": [
      "['HomePlanet' 'CryoSleep' 'Destination' 'VIP' 'Transported' 'CabinDeck'\n",
      " 'CabinSide']\n"
     ]
    }
   ],
   "source": [
    "#отбираем категориальные признаки\n",
    "train_non_numeric = train.select_dtypes(exclude=[np.number])\n",
    "non_numeric_cols = train_non_numeric.columns.values\n",
    "print(non_numeric_cols)"
   ]
  },
  {
   "cell_type": "markdown",
   "id": "576c66d0",
   "metadata": {},
   "source": [
    "чтобы преобразовать категориальные признаки к дамми-переменным, нужно для начала объединить тренировочную выборку с тестовой, чтоб не получилось так, что в одной одни колонки, в другой - другие. А после уже снова разбить на тренировочную и тестовую"
   ]
  },
  {
   "cell_type": "code",
   "execution_count": 64,
   "id": "14a943d9",
   "metadata": {},
   "outputs": [],
   "source": [
    "#запоминаем длину тренировочной и целевую - чтобы потом их восстановить из объединенной\n",
    "len_train = train.shape[0]\n",
    "target = train.Transported"
   ]
  },
  {
   "cell_type": "code",
   "execution_count": 65,
   "id": "e4982fc3",
   "metadata": {},
   "outputs": [
    {
     "data": {
      "text/plain": [
       "(12970, 14)"
      ]
     },
     "execution_count": 65,
     "metadata": {},
     "output_type": "execute_result"
    }
   ],
   "source": [
    "#объединяем\n",
    "X_all = train[[col for col in train.columns if col != 'Transported']].append(test) \n",
    "X_all.shape"
   ]
  },
  {
   "cell_type": "code",
   "execution_count": 66,
   "id": "f0342169",
   "metadata": {},
   "outputs": [
    {
     "data": {
      "text/html": [
       "<div>\n",
       "<style scoped>\n",
       "    .dataframe tbody tr th:only-of-type {\n",
       "        vertical-align: middle;\n",
       "    }\n",
       "\n",
       "    .dataframe tbody tr th {\n",
       "        vertical-align: top;\n",
       "    }\n",
       "\n",
       "    .dataframe thead th {\n",
       "        text-align: right;\n",
       "    }\n",
       "</style>\n",
       "<table border=\"1\" class=\"dataframe\">\n",
       "  <thead>\n",
       "    <tr style=\"text-align: right;\">\n",
       "      <th></th>\n",
       "      <th>Age</th>\n",
       "      <th>RoomService</th>\n",
       "      <th>FoodCourt</th>\n",
       "      <th>ShoppingMall</th>\n",
       "      <th>Spa</th>\n",
       "      <th>VRDeck</th>\n",
       "      <th>Group</th>\n",
       "      <th>CabinNumber</th>\n",
       "      <th>HomePlanet_Earth</th>\n",
       "      <th>HomePlanet_Europa</th>\n",
       "      <th>...</th>\n",
       "      <th>CabinDeck_A</th>\n",
       "      <th>CabinDeck_B</th>\n",
       "      <th>CabinDeck_C</th>\n",
       "      <th>CabinDeck_D</th>\n",
       "      <th>CabinDeck_E</th>\n",
       "      <th>CabinDeck_F</th>\n",
       "      <th>CabinDeck_G</th>\n",
       "      <th>CabinDeck_T</th>\n",
       "      <th>CabinSide_P</th>\n",
       "      <th>CabinSide_S</th>\n",
       "    </tr>\n",
       "  </thead>\n",
       "  <tbody>\n",
       "    <tr>\n",
       "      <th>0</th>\n",
       "      <td>39.0</td>\n",
       "      <td>0.0</td>\n",
       "      <td>0.0</td>\n",
       "      <td>0.0</td>\n",
       "      <td>0.0</td>\n",
       "      <td>0.0</td>\n",
       "      <td>1</td>\n",
       "      <td>0.0</td>\n",
       "      <td>0</td>\n",
       "      <td>1</td>\n",
       "      <td>...</td>\n",
       "      <td>0</td>\n",
       "      <td>1</td>\n",
       "      <td>0</td>\n",
       "      <td>0</td>\n",
       "      <td>0</td>\n",
       "      <td>0</td>\n",
       "      <td>0</td>\n",
       "      <td>0</td>\n",
       "      <td>1</td>\n",
       "      <td>0</td>\n",
       "    </tr>\n",
       "    <tr>\n",
       "      <th>1</th>\n",
       "      <td>24.0</td>\n",
       "      <td>109.0</td>\n",
       "      <td>9.0</td>\n",
       "      <td>25.0</td>\n",
       "      <td>549.0</td>\n",
       "      <td>44.0</td>\n",
       "      <td>2</td>\n",
       "      <td>0.0</td>\n",
       "      <td>1</td>\n",
       "      <td>0</td>\n",
       "      <td>...</td>\n",
       "      <td>0</td>\n",
       "      <td>0</td>\n",
       "      <td>0</td>\n",
       "      <td>0</td>\n",
       "      <td>0</td>\n",
       "      <td>1</td>\n",
       "      <td>0</td>\n",
       "      <td>0</td>\n",
       "      <td>0</td>\n",
       "      <td>1</td>\n",
       "    </tr>\n",
       "    <tr>\n",
       "      <th>2</th>\n",
       "      <td>58.0</td>\n",
       "      <td>43.0</td>\n",
       "      <td>3576.0</td>\n",
       "      <td>0.0</td>\n",
       "      <td>6715.0</td>\n",
       "      <td>49.0</td>\n",
       "      <td>3</td>\n",
       "      <td>0.0</td>\n",
       "      <td>0</td>\n",
       "      <td>1</td>\n",
       "      <td>...</td>\n",
       "      <td>1</td>\n",
       "      <td>0</td>\n",
       "      <td>0</td>\n",
       "      <td>0</td>\n",
       "      <td>0</td>\n",
       "      <td>0</td>\n",
       "      <td>0</td>\n",
       "      <td>0</td>\n",
       "      <td>0</td>\n",
       "      <td>1</td>\n",
       "    </tr>\n",
       "    <tr>\n",
       "      <th>3</th>\n",
       "      <td>33.0</td>\n",
       "      <td>0.0</td>\n",
       "      <td>1283.0</td>\n",
       "      <td>371.0</td>\n",
       "      <td>3329.0</td>\n",
       "      <td>193.0</td>\n",
       "      <td>3</td>\n",
       "      <td>0.0</td>\n",
       "      <td>0</td>\n",
       "      <td>1</td>\n",
       "      <td>...</td>\n",
       "      <td>1</td>\n",
       "      <td>0</td>\n",
       "      <td>0</td>\n",
       "      <td>0</td>\n",
       "      <td>0</td>\n",
       "      <td>0</td>\n",
       "      <td>0</td>\n",
       "      <td>0</td>\n",
       "      <td>0</td>\n",
       "      <td>1</td>\n",
       "    </tr>\n",
       "    <tr>\n",
       "      <th>4</th>\n",
       "      <td>16.0</td>\n",
       "      <td>303.0</td>\n",
       "      <td>70.0</td>\n",
       "      <td>151.0</td>\n",
       "      <td>565.0</td>\n",
       "      <td>2.0</td>\n",
       "      <td>4</td>\n",
       "      <td>1.0</td>\n",
       "      <td>1</td>\n",
       "      <td>0</td>\n",
       "      <td>...</td>\n",
       "      <td>0</td>\n",
       "      <td>0</td>\n",
       "      <td>0</td>\n",
       "      <td>0</td>\n",
       "      <td>0</td>\n",
       "      <td>1</td>\n",
       "      <td>0</td>\n",
       "      <td>0</td>\n",
       "      <td>0</td>\n",
       "      <td>1</td>\n",
       "    </tr>\n",
       "  </tbody>\n",
       "</table>\n",
       "<p>5 rows × 28 columns</p>\n",
       "</div>"
      ],
      "text/plain": [
       "    Age  RoomService  FoodCourt  ShoppingMall     Spa  VRDeck  Group  \\\n",
       "0  39.0          0.0        0.0           0.0     0.0     0.0      1   \n",
       "1  24.0        109.0        9.0          25.0   549.0    44.0      2   \n",
       "2  58.0         43.0     3576.0           0.0  6715.0    49.0      3   \n",
       "3  33.0          0.0     1283.0         371.0  3329.0   193.0      3   \n",
       "4  16.0        303.0       70.0         151.0   565.0     2.0      4   \n",
       "\n",
       "   CabinNumber  HomePlanet_Earth  HomePlanet_Europa  ...  CabinDeck_A  \\\n",
       "0          0.0                 0                  1  ...            0   \n",
       "1          0.0                 1                  0  ...            0   \n",
       "2          0.0                 0                  1  ...            1   \n",
       "3          0.0                 0                  1  ...            1   \n",
       "4          1.0                 1                  0  ...            0   \n",
       "\n",
       "   CabinDeck_B  CabinDeck_C  CabinDeck_D  CabinDeck_E  CabinDeck_F  \\\n",
       "0            1            0            0            0            0   \n",
       "1            0            0            0            0            1   \n",
       "2            0            0            0            0            0   \n",
       "3            0            0            0            0            0   \n",
       "4            0            0            0            0            1   \n",
       "\n",
       "   CabinDeck_G  CabinDeck_T  CabinSide_P  CabinSide_S  \n",
       "0            0            0            1            0  \n",
       "1            0            0            0            1  \n",
       "2            0            0            0            1  \n",
       "3            0            0            0            1  \n",
       "4            0            0            0            1  \n",
       "\n",
       "[5 rows x 28 columns]"
      ]
     },
     "execution_count": 66,
     "metadata": {},
     "output_type": "execute_result"
    }
   ],
   "source": [
    "X_all = pd.get_dummies(X_all, columns=[col for col in non_numeric_cols if col != 'Transported'])\n",
    "X_all.head()"
   ]
  },
  {
   "cell_type": "code",
   "execution_count": 67,
   "id": "41244906",
   "metadata": {},
   "outputs": [
    {
     "name": "stderr",
     "output_type": "stream",
     "text": [
      "/home/sonador/anaconda3/lib/python3.9/site-packages/pandas/core/indexing.py:1667: SettingWithCopyWarning: \n",
      "A value is trying to be set on a copy of a slice from a DataFrame.\n",
      "Try using .loc[row_indexer,col_indexer] = value instead\n",
      "\n",
      "See the caveats in the documentation: https://pandas.pydata.org/pandas-docs/stable/user_guide/indexing.html#returning-a-view-versus-a-copy\n",
      "  self.obj[key] = value\n"
     ]
    },
    {
     "data": {
      "text/plain": [
       "0    False\n",
       "1     True\n",
       "2    False\n",
       "3    False\n",
       "4     True\n",
       "Name: Transported, dtype: bool"
      ]
     },
     "execution_count": 67,
     "metadata": {},
     "output_type": "execute_result"
    }
   ],
   "source": [
    "#разделяем назад на тренировочную и тестовую выборки\n",
    "train = X_all[:len_train]\n",
    "test = X_all[len_train:]\n",
    "train.loc[:, 'Transported'] = target.values\n",
    "train.Transported.head()\n"
   ]
  },
  {
   "cell_type": "markdown",
   "id": "030f1635",
   "metadata": {},
   "source": [
    "# Анализ числовых переменных"
   ]
  },
  {
   "cell_type": "markdown",
   "id": "a47ecfc6",
   "metadata": {},
   "source": [
    "## Распределение признаков"
   ]
  },
  {
   "cell_type": "code",
   "execution_count": 68,
   "id": "2e93d0ea",
   "metadata": {},
   "outputs": [
    {
     "data": {
      "image/png": "[encoded data removed]",
      "text/plain": [
       "<Figure size 1152x1440 with 9 Axes>"
      ]
     },
     "metadata": {},
     "output_type": "display_data"
    }
   ],
   "source": [
    "ig_ = train[numeric_cols].hist(figsize=(16, 20), bins=50, color=COLOR_PLOT,\n",
    "                         edgecolor=\"black\", xlabelsize=8, ylabelsize=8)"
   ]
  },
  {
   "cell_type": "markdown",
   "id": "a8664c4c",
   "metadata": {},
   "source": [
    "По графикам видим, что большинство признаков распределены логонормально, а признак Group - практически равномерно\n",
    "\n",
    "Посмотрим на описательные статистики"
   ]
  },
  {
   "cell_type": "code",
   "execution_count": 69,
   "id": "6b892a00",
   "metadata": {},
   "outputs": [
    {
     "data": {
      "text/html": [
       "<div>\n",
       "<style scoped>\n",
       "    .dataframe tbody tr th:only-of-type {\n",
       "        vertical-align: middle;\n",
       "    }\n",
       "\n",
       "    .dataframe tbody tr th {\n",
       "        vertical-align: top;\n",
       "    }\n",
       "\n",
       "    .dataframe thead th {\n",
       "        text-align: right;\n",
       "    }\n",
       "</style>\n",
       "<table border=\"1\" class=\"dataframe\">\n",
       "  <thead>\n",
       "    <tr style=\"text-align: right;\">\n",
       "      <th></th>\n",
       "      <th>Age</th>\n",
       "      <th>RoomService</th>\n",
       "      <th>FoodCourt</th>\n",
       "      <th>ShoppingMall</th>\n",
       "      <th>Spa</th>\n",
       "      <th>VRDeck</th>\n",
       "      <th>Group</th>\n",
       "      <th>CabinNumber</th>\n",
       "      <th>HomePlanet_Earth</th>\n",
       "      <th>HomePlanet_Europa</th>\n",
       "      <th>...</th>\n",
       "      <th>CabinDeck_A</th>\n",
       "      <th>CabinDeck_B</th>\n",
       "      <th>CabinDeck_C</th>\n",
       "      <th>CabinDeck_D</th>\n",
       "      <th>CabinDeck_E</th>\n",
       "      <th>CabinDeck_F</th>\n",
       "      <th>CabinDeck_G</th>\n",
       "      <th>CabinDeck_T</th>\n",
       "      <th>CabinSide_P</th>\n",
       "      <th>CabinSide_S</th>\n",
       "    </tr>\n",
       "  </thead>\n",
       "  <tbody>\n",
       "    <tr>\n",
       "      <th>count</th>\n",
       "      <td>8514.000000</td>\n",
       "      <td>8512.000000</td>\n",
       "      <td>8510.000000</td>\n",
       "      <td>8485.000000</td>\n",
       "      <td>8510.000000</td>\n",
       "      <td>8505.000000</td>\n",
       "      <td>8693.000000</td>\n",
       "      <td>8494.000000</td>\n",
       "      <td>8693.000000</td>\n",
       "      <td>8693.000000</td>\n",
       "      <td>...</td>\n",
       "      <td>8693.000000</td>\n",
       "      <td>8693.000000</td>\n",
       "      <td>8693.000000</td>\n",
       "      <td>8693.000000</td>\n",
       "      <td>8693.000000</td>\n",
       "      <td>8693.000000</td>\n",
       "      <td>8693.000000</td>\n",
       "      <td>8693.000000</td>\n",
       "      <td>8693.000000</td>\n",
       "      <td>8693.000000</td>\n",
       "    </tr>\n",
       "    <tr>\n",
       "      <th>mean</th>\n",
       "      <td>28.827930</td>\n",
       "      <td>224.687617</td>\n",
       "      <td>458.077203</td>\n",
       "      <td>173.729169</td>\n",
       "      <td>311.138778</td>\n",
       "      <td>304.854791</td>\n",
       "      <td>4633.389624</td>\n",
       "      <td>600.367671</td>\n",
       "      <td>0.552514</td>\n",
       "      <td>0.245140</td>\n",
       "      <td>...</td>\n",
       "      <td>0.029449</td>\n",
       "      <td>0.089612</td>\n",
       "      <td>0.085931</td>\n",
       "      <td>0.054987</td>\n",
       "      <td>0.100771</td>\n",
       "      <td>0.344300</td>\n",
       "      <td>0.294375</td>\n",
       "      <td>0.000575</td>\n",
       "      <td>0.483838</td>\n",
       "      <td>0.516162</td>\n",
       "    </tr>\n",
       "    <tr>\n",
       "      <th>std</th>\n",
       "      <td>14.489021</td>\n",
       "      <td>666.717663</td>\n",
       "      <td>1611.489240</td>\n",
       "      <td>604.696458</td>\n",
       "      <td>1136.705535</td>\n",
       "      <td>1145.717189</td>\n",
       "      <td>2671.028856</td>\n",
       "      <td>511.867226</td>\n",
       "      <td>0.497263</td>\n",
       "      <td>0.430195</td>\n",
       "      <td>...</td>\n",
       "      <td>0.169071</td>\n",
       "      <td>0.285642</td>\n",
       "      <td>0.280279</td>\n",
       "      <td>0.227968</td>\n",
       "      <td>0.301042</td>\n",
       "      <td>0.475167</td>\n",
       "      <td>0.455787</td>\n",
       "      <td>0.023977</td>\n",
       "      <td>0.499767</td>\n",
       "      <td>0.499767</td>\n",
       "    </tr>\n",
       "    <tr>\n",
       "      <th>min</th>\n",
       "      <td>0.000000</td>\n",
       "      <td>0.000000</td>\n",
       "      <td>0.000000</td>\n",
       "      <td>0.000000</td>\n",
       "      <td>0.000000</td>\n",
       "      <td>0.000000</td>\n",
       "      <td>1.000000</td>\n",
       "      <td>0.000000</td>\n",
       "      <td>0.000000</td>\n",
       "      <td>0.000000</td>\n",
       "      <td>...</td>\n",
       "      <td>0.000000</td>\n",
       "      <td>0.000000</td>\n",
       "      <td>0.000000</td>\n",
       "      <td>0.000000</td>\n",
       "      <td>0.000000</td>\n",
       "      <td>0.000000</td>\n",
       "      <td>0.000000</td>\n",
       "      <td>0.000000</td>\n",
       "      <td>0.000000</td>\n",
       "      <td>0.000000</td>\n",
       "    </tr>\n",
       "    <tr>\n",
       "      <th>25%</th>\n",
       "      <td>19.000000</td>\n",
       "      <td>0.000000</td>\n",
       "      <td>0.000000</td>\n",
       "      <td>0.000000</td>\n",
       "      <td>0.000000</td>\n",
       "      <td>0.000000</td>\n",
       "      <td>2319.000000</td>\n",
       "      <td>167.250000</td>\n",
       "      <td>0.000000</td>\n",
       "      <td>0.000000</td>\n",
       "      <td>...</td>\n",
       "      <td>0.000000</td>\n",
       "      <td>0.000000</td>\n",
       "      <td>0.000000</td>\n",
       "      <td>0.000000</td>\n",
       "      <td>0.000000</td>\n",
       "      <td>0.000000</td>\n",
       "      <td>0.000000</td>\n",
       "      <td>0.000000</td>\n",
       "      <td>0.000000</td>\n",
       "      <td>0.000000</td>\n",
       "    </tr>\n",
       "    <tr>\n",
       "      <th>50%</th>\n",
       "      <td>27.000000</td>\n",
       "      <td>0.000000</td>\n",
       "      <td>0.000000</td>\n",
       "      <td>0.000000</td>\n",
       "      <td>0.000000</td>\n",
       "      <td>0.000000</td>\n",
       "      <td>4630.000000</td>\n",
       "      <td>427.000000</td>\n",
       "      <td>1.000000</td>\n",
       "      <td>0.000000</td>\n",
       "      <td>...</td>\n",
       "      <td>0.000000</td>\n",
       "      <td>0.000000</td>\n",
       "      <td>0.000000</td>\n",
       "      <td>0.000000</td>\n",
       "      <td>0.000000</td>\n",
       "      <td>0.000000</td>\n",
       "      <td>0.000000</td>\n",
       "      <td>0.000000</td>\n",
       "      <td>0.000000</td>\n",
       "      <td>1.000000</td>\n",
       "    </tr>\n",
       "    <tr>\n",
       "      <th>75%</th>\n",
       "      <td>38.000000</td>\n",
       "      <td>47.000000</td>\n",
       "      <td>76.000000</td>\n",
       "      <td>27.000000</td>\n",
       "      <td>59.000000</td>\n",
       "      <td>46.000000</td>\n",
       "      <td>6883.000000</td>\n",
       "      <td>999.000000</td>\n",
       "      <td>1.000000</td>\n",
       "      <td>0.000000</td>\n",
       "      <td>...</td>\n",
       "      <td>0.000000</td>\n",
       "      <td>0.000000</td>\n",
       "      <td>0.000000</td>\n",
       "      <td>0.000000</td>\n",
       "      <td>0.000000</td>\n",
       "      <td>1.000000</td>\n",
       "      <td>1.000000</td>\n",
       "      <td>0.000000</td>\n",
       "      <td>1.000000</td>\n",
       "      <td>1.000000</td>\n",
       "    </tr>\n",
       "    <tr>\n",
       "      <th>max</th>\n",
       "      <td>79.000000</td>\n",
       "      <td>14327.000000</td>\n",
       "      <td>29813.000000</td>\n",
       "      <td>23492.000000</td>\n",
       "      <td>22408.000000</td>\n",
       "      <td>24133.000000</td>\n",
       "      <td>9280.000000</td>\n",
       "      <td>1894.000000</td>\n",
       "      <td>1.000000</td>\n",
       "      <td>1.000000</td>\n",
       "      <td>...</td>\n",
       "      <td>1.000000</td>\n",
       "      <td>1.000000</td>\n",
       "      <td>1.000000</td>\n",
       "      <td>1.000000</td>\n",
       "      <td>1.000000</td>\n",
       "      <td>1.000000</td>\n",
       "      <td>1.000000</td>\n",
       "      <td>1.000000</td>\n",
       "      <td>1.000000</td>\n",
       "      <td>1.000000</td>\n",
       "    </tr>\n",
       "  </tbody>\n",
       "</table>\n",
       "<p>8 rows × 28 columns</p>\n",
       "</div>"
      ],
      "text/plain": [
       "               Age   RoomService     FoodCourt  ShoppingMall           Spa  \\\n",
       "count  8514.000000   8512.000000   8510.000000   8485.000000   8510.000000   \n",
       "mean     28.827930    224.687617    458.077203    173.729169    311.138778   \n",
       "std      14.489021    666.717663   1611.489240    604.696458   1136.705535   \n",
       "min       0.000000      0.000000      0.000000      0.000000      0.000000   \n",
       "25%      19.000000      0.000000      0.000000      0.000000      0.000000   \n",
       "50%      27.000000      0.000000      0.000000      0.000000      0.000000   \n",
       "75%      38.000000     47.000000     76.000000     27.000000     59.000000   \n",
       "max      79.000000  14327.000000  29813.000000  23492.000000  22408.000000   \n",
       "\n",
       "             VRDeck        Group  CabinNumber  HomePlanet_Earth  \\\n",
       "count   8505.000000  8693.000000  8494.000000       8693.000000   \n",
       "mean     304.854791  4633.389624   600.367671          0.552514   \n",
       "std     1145.717189  2671.028856   511.867226          0.497263   \n",
       "min        0.000000     1.000000     0.000000          0.000000   \n",
       "25%        0.000000  2319.000000   167.250000          0.000000   \n",
       "50%        0.000000  4630.000000   427.000000          1.000000   \n",
       "75%       46.000000  6883.000000   999.000000          1.000000   \n",
       "max    24133.000000  9280.000000  1894.000000          1.000000   \n",
       "\n",
       "       HomePlanet_Europa  ...  CabinDeck_A  CabinDeck_B  CabinDeck_C  \\\n",
       "count        8693.000000  ...  8693.000000  8693.000000  8693.000000   \n",
       "mean            0.245140  ...     0.029449     0.089612     0.085931   \n",
       "std             0.430195  ...     0.169071     0.285642     0.280279   \n",
       "min             0.000000  ...     0.000000     0.000000     0.000000   \n",
       "25%             0.000000  ...     0.000000     0.000000     0.000000   \n",
       "50%             0.000000  ...     0.000000     0.000000     0.000000   \n",
       "75%             0.000000  ...     0.000000     0.000000     0.000000   \n",
       "max             1.000000  ...     1.000000     1.000000     1.000000   \n",
       "\n",
       "       CabinDeck_D  CabinDeck_E  CabinDeck_F  CabinDeck_G  CabinDeck_T  \\\n",
       "count  8693.000000  8693.000000  8693.000000  8693.000000  8693.000000   \n",
       "mean      0.054987     0.100771     0.344300     0.294375     0.000575   \n",
       "std       0.227968     0.301042     0.475167     0.455787     0.023977   \n",
       "min       0.000000     0.000000     0.000000     0.000000     0.000000   \n",
       "25%       0.000000     0.000000     0.000000     0.000000     0.000000   \n",
       "50%       0.000000     0.000000     0.000000     0.000000     0.000000   \n",
       "75%       0.000000     0.000000     1.000000     1.000000     0.000000   \n",
       "max       1.000000     1.000000     1.000000     1.000000     1.000000   \n",
       "\n",
       "       CabinSide_P  CabinSide_S  \n",
       "count  8693.000000  8693.000000  \n",
       "mean      0.483838     0.516162  \n",
       "std       0.499767     0.499767  \n",
       "min       0.000000     0.000000  \n",
       "25%       0.000000     0.000000  \n",
       "50%       0.000000     1.000000  \n",
       "75%       1.000000     1.000000  \n",
       "max       1.000000     1.000000  \n",
       "\n",
       "[8 rows x 28 columns]"
      ]
     },
     "execution_count": 69,
     "metadata": {},
     "output_type": "execute_result"
    }
   ],
   "source": [
    "train.describe()"
   ]
  },
  {
   "cell_type": "markdown",
   "id": "8ad427e8",
   "metadata": {},
   "source": [
    "видим, что большинство пассажиров - молодые люди (75% - до 38 лет), большинство людей не пользуются дополнительными услугами. Так же интересно заметить, что верхние значения доп услуг во много раз выше 75% Квантиля - нужно изучить их на вопрос выбросов"
   ]
  },
  {
   "cell_type": "markdown",
   "id": "311fda13",
   "metadata": {},
   "source": [
    "## Работа с выбросами"
   ]
  },
  {
   "cell_type": "markdown",
   "id": "26c63e93",
   "metadata": {},
   "source": [
    "Посмотрим на значения выше 75% квантиля"
   ]
  },
  {
   "cell_type": "code",
   "execution_count": 70,
   "id": "d7ef0ab9",
   "metadata": {},
   "outputs": [
    {
     "data": {
      "image/png": "[encoded data removed]",
      "text/plain": [
       "<Figure size 1440x1440 with 6 Axes>"
      ]
     },
     "metadata": {},
     "output_type": "display_data"
    }
   ],
   "source": [
    "col_for_research = ['RoomService', 'FoodCourt', 'ShoppingMall', 'Spa', 'VRDeck']\n",
    "fig, axes = plt.subplots(ceil(len(col_for_research)/3), 3, figsize=(20,20))\n",
    "for y, col in enumerate(col_for_research):\n",
    "    i, j = divmod(y, 3)\n",
    "    data = train[train[col] > train[col].quantile(q=0.75)]\n",
    "    sns.boxplot(data=data, x=col, ax=axes[i,j])\n"
   ]
  },
  {
   "cell_type": "markdown",
   "id": "28a50325",
   "metadata": {},
   "source": [
    "По графикам видим несколько экстремально высоких значений, удалим их, чтобы не вносили шум в наши данные"
   ]
  },
  {
   "cell_type": "code",
   "execution_count": 71,
   "id": "49acb036",
   "metadata": {},
   "outputs": [
    {
     "data": {
      "text/plain": [
       "[4416, 5105]"
      ]
     },
     "execution_count": 71,
     "metadata": {},
     "output_type": "execute_result"
    }
   ],
   "source": [
    "outliers1 = train[train[\"RoomService\"] > 9000].index.to_list()\n",
    "outliers1"
   ]
  },
  {
   "cell_type": "code",
   "execution_count": 72,
   "id": "ac094a7e",
   "metadata": {},
   "outputs": [
    {
     "data": {
      "text/plain": [
       "[1213, 1842, 2067, 3198, 3538]"
      ]
     },
     "execution_count": 72,
     "metadata": {},
     "output_type": "execute_result"
    }
   ],
   "source": [
    "outliers2 = train[train[\"FoodCourt\"] > 20000].index.to_list()\n",
    "outliers2"
   ]
  },
  {
   "cell_type": "code",
   "execution_count": 73,
   "id": "a16f8bfe",
   "metadata": {},
   "outputs": [
    {
     "data": {
      "text/plain": [
       "[8415]"
      ]
     },
     "execution_count": 73,
     "metadata": {},
     "output_type": "execute_result"
    }
   ],
   "source": [
    "outliers3 = train[train[\"ShoppingMall\"] > 15000].index.to_list()\n",
    "outliers3"
   ]
  },
  {
   "cell_type": "code",
   "execution_count": 74,
   "id": "828659b4",
   "metadata": {},
   "outputs": [
    {
     "data": {
      "text/plain": [
       "[5722, 7995]"
      ]
     },
     "execution_count": 74,
     "metadata": {},
     "output_type": "execute_result"
    }
   ],
   "source": [
    "outliers4 = train[train[\"Spa\"] > 17500].index.to_list()\n",
    "outliers4"
   ]
  },
  {
   "cell_type": "code",
   "execution_count": 75,
   "id": "ab98bd40",
   "metadata": {},
   "outputs": [
    {
     "data": {
      "text/plain": [
       "[725, 3366, 3916, 4311, 5619, 6547]"
      ]
     },
     "execution_count": 75,
     "metadata": {},
     "output_type": "execute_result"
    }
   ],
   "source": [
    "outliers5 = train[train[\"VRDeck\"] > 14000].index.to_list()\n",
    "outliers5"
   ]
  },
  {
   "cell_type": "code",
   "execution_count": 76,
   "id": "854383cb",
   "metadata": {},
   "outputs": [
    {
     "data": {
      "text/plain": [
       "(8693, 29)"
      ]
     },
     "execution_count": 76,
     "metadata": {},
     "output_type": "execute_result"
    }
   ],
   "source": [
    "#объединяем в один массив индексы, замечаем, что есть прям явные отклонения сразу по нескольким признакам\n",
    "outliers = list(set(outliers1 + outliers2 + outliers3 +outliers4 + outliers5))\n",
    "train.shape"
   ]
  },
  {
   "cell_type": "code",
   "execution_count": 77,
   "id": "10608e89",
   "metadata": {},
   "outputs": [
    {
     "data": {
      "text/plain": [
       "(8677, 29)"
      ]
     },
     "execution_count": 77,
     "metadata": {},
     "output_type": "execute_result"
    }
   ],
   "source": [
    "# удаляем выбросы\n",
    "train = train.drop(outliers)\n",
    "train.shape"
   ]
  },
  {
   "cell_type": "markdown",
   "id": "142f26f6",
   "metadata": {},
   "source": [
    "## Влияние признаков на целевую переменную"
   ]
  },
  {
   "cell_type": "code",
   "execution_count": 78,
   "id": "722eed6f",
   "metadata": {},
   "outputs": [
    {
     "data": {
      "image/png": "[encoded data removed]",
      "text/plain": [
       "<Figure size 1440x1440 with 9 Axes>"
      ]
     },
     "metadata": {},
     "output_type": "display_data"
    }
   ],
   "source": [
    "fig, axes = plt.subplots(ceil(len(numeric_cols)/3), 3, figsize=(20,20))\n",
    "for y, col in enumerate(numeric_cols):\n",
    "    i, j = divmod(y, 3)\n",
    "    sns.kdeplot(data=train, x=col, hue='Transported', alpha=0.7, ax=axes[i,j])\n",
    "    "
   ]
  },
  {
   "cell_type": "markdown",
   "id": "c27f0c7c",
   "metadata": {},
   "source": [
    "По графикам складывается впечатление, что признаки Group, CabinNumber, Age не существенно влияют на целевую, исключаем их из выборки. \n",
    "\n",
    "Так же можно сделать несколько интересных выводов: если вы тратите на RoomService, то шансы быть транспортированными уменьшаются, аналогично для Spa и VRDeck"
   ]
  },
  {
   "cell_type": "code",
   "execution_count": 79,
   "id": "e06493a6",
   "metadata": {},
   "outputs": [],
   "source": [
    "col_for_del = ['Group', 'CabinNumber', 'Age']\n",
    "train = train.drop(col_for_del, axis=1)\n",
    "test = test.drop(col_for_del, axis=1)"
   ]
  },
  {
   "cell_type": "code",
   "execution_count": 80,
   "id": "0c72fa1b",
   "metadata": {},
   "outputs": [],
   "source": [
    "#и удалить из массива с целочисленными столбцами\n",
    "numeric_cols = del_from_list(numeric_cols, col_for_del)"
   ]
  },
  {
   "cell_type": "markdown",
   "id": "59b0de4b",
   "metadata": {},
   "source": [
    "## Модификация признаков с NaN"
   ]
  },
  {
   "cell_type": "code",
   "execution_count": 82,
   "id": "3483142a",
   "metadata": {},
   "outputs": [
    {
     "data": {
      "text/plain": [
       "['FoodCourt', 'RoomService', 'ShoppingMall', 'Spa', 'VRDeck']"
      ]
     },
     "execution_count": 82,
     "metadata": {},
     "output_type": "execute_result"
    }
   ],
   "source": [
    "# выведем колонки с пропущенными значениями\n",
    "col_int_sum_na = train[numeric_cols].isna().sum()\n",
    "col_int_with_na = col_int_sum_na[col_int_sum_na>0].index.to_list()\n",
    "col_int_with_na"
   ]
  },
  {
   "cell_type": "code",
   "execution_count": 83,
   "id": "79376e5e",
   "metadata": {},
   "outputs": [
    {
     "data": {
      "text/plain": [
       "FoodCourt       183\n",
       "RoomService     180\n",
       "ShoppingMall    208\n",
       "Spa             182\n",
       "VRDeck          188\n",
       "dtype: int64"
      ]
     },
     "execution_count": 83,
     "metadata": {},
     "output_type": "execute_result"
    }
   ],
   "source": [
    "train[col_int_with_na].isna().sum()"
   ]
  },
  {
   "cell_type": "markdown",
   "id": "65ac7814",
   "metadata": {},
   "source": [
    "Процент пропущенных значений во всех признаках не велик(<<10%). "
   ]
  },
  {
   "cell_type": "markdown",
   "id": "c65e41dd",
   "metadata": {},
   "source": [
    "Попробуем предсказать пропущенные значения при помощи дерева решений, поэтому прежде нам пришлось закодировать категориальные признаки"
   ]
  },
  {
   "cell_type": "code",
   "execution_count": 84,
   "id": "81aa74ac",
   "metadata": {},
   "outputs": [],
   "source": [
    "# выбираем колонки, которые будем заполнять\n",
    "col_with_na = train[col_int_with_na].isna().sum()[train[col_int_with_na].isna().sum() > 0].index.to_list()\n",
    "# колонки , по которым будем предсказывать\n",
    "col_for_predict = [col for col in train.columns if col not in col_with_na and col != 'Transported']\n",
    "\n",
    "for col in col_with_na: \n",
    "    data_na = train[train[col].isna()]\n",
    "    X_pred = data_na[col_for_predict]\n",
    "    \n",
    "    data_pred = train[train[col].notna()]\n",
    "    X = data_pred[col_for_predict]\n",
    "    y = data_pred[col]\n",
    "    \n",
    "    regressor = DecisionTreeRegressor(random_state=RANDOM_STATE, max_depth=5)\n",
    "    regressor.fit(X, y)\n",
    "    y_pred = regressor.predict(X_pred)\n",
    "    train.loc[train[col].isna(), col] = y_pred\n",
    "    \n",
    "    #DecisionTreeRegressor\n",
    "    #print(col,':', y_pred)"
   ]
  },
  {
   "cell_type": "code",
   "execution_count": 85,
   "id": "378c7ca2",
   "metadata": {},
   "outputs": [
    {
     "data": {
      "text/plain": [
       "0"
      ]
     },
     "execution_count": 85,
     "metadata": {},
     "output_type": "execute_result"
    }
   ],
   "source": [
    "#проверим, что не осталось пустых значений\n",
    "train.isna().sum().sum()"
   ]
  },
  {
   "cell_type": "markdown",
   "id": "a228562a",
   "metadata": {},
   "source": [
    "Проверим новые распределения наших числовых признаков"
   ]
  },
  {
   "cell_type": "code",
   "execution_count": 86,
   "id": "64196698",
   "metadata": {},
   "outputs": [
    {
     "data": {
      "image/png": "[encoded data removed]",
      "text/plain": [
       "<Figure size 1440x1440 with 6 Axes>"
      ]
     },
     "metadata": {},
     "output_type": "display_data"
    }
   ],
   "source": [
    "fig, axes = plt.subplots(ceil(len(numeric_cols)/3), 3, figsize=(20,20))\n",
    "for y, col in enumerate(numeric_cols):\n",
    "    i, j = divmod(y, 3)\n",
    "    sns.kdeplot(data=train, x=col, hue='Transported', alpha=0.7, ax=axes[i,j])\n",
    "    "
   ]
  },
  {
   "cell_type": "markdown",
   "id": "4dee06b0",
   "metadata": {},
   "source": [
    "Распределения после модификации пустых значений выглядят похоже с изначальными.\n",
    "\n",
    "**Теперь модифицируем NaN в тестовой выборке**"
   ]
  },
  {
   "cell_type": "code",
   "execution_count": 87,
   "id": "f5ebc250",
   "metadata": {},
   "outputs": [
    {
     "data": {
      "text/plain": [
       "FoodCourt       106\n",
       "RoomService      82\n",
       "ShoppingMall     98\n",
       "Spa             101\n",
       "VRDeck           80\n",
       "dtype: int64"
      ]
     },
     "execution_count": 87,
     "metadata": {},
     "output_type": "execute_result"
    }
   ],
   "source": [
    "test[col_int_with_na].isna().sum()"
   ]
  },
  {
   "cell_type": "markdown",
   "id": "916d335d",
   "metadata": {},
   "source": [
    "Процент пропущенных значений во всех признаках не велик(<<10%).\n",
    "\n",
    "Заполним пропущенные в тестовой при помощи дерева решений"
   ]
  },
  {
   "cell_type": "code",
   "execution_count": 88,
   "id": "97d41245",
   "metadata": {},
   "outputs": [],
   "source": [
    "# выбираем колонки, которые будем заполнять\n",
    "col_with_na = test[col_int_with_na].isna().sum()[test[col_int_with_na].isna().sum() > 0].index.to_list()\n",
    "# колонки , по которым будем предсказывать\n",
    "col_for_predict = [col for col in test.columns if col not in col_with_na]\n",
    "\n",
    "for col in col_with_na: \n",
    "    data_na = test[test[col].isna()]\n",
    "    X_pred = data_na[col_for_predict]\n",
    "    \n",
    "    data_pred = test[test[col].notna()]\n",
    "    X = data_pred[col_for_predict]\n",
    "    y = data_pred[col]\n",
    "    \n",
    "    regressor = DecisionTreeRegressor(random_state=RANDOM_STATE, max_depth=5)\n",
    "    regressor.fit(X, y)\n",
    "    y_pred = regressor.predict(X_pred)\n",
    "    test.loc[test[col].isna(), col] = y_pred"
   ]
  },
  {
   "cell_type": "code",
   "execution_count": 89,
   "id": "73abd97c",
   "metadata": {},
   "outputs": [
    {
     "data": {
      "text/plain": [
       "0"
      ]
     },
     "execution_count": 89,
     "metadata": {},
     "output_type": "execute_result"
    }
   ],
   "source": [
    "test.isna().sum().sum()"
   ]
  },
  {
   "cell_type": "markdown",
   "id": "84d60636",
   "metadata": {},
   "source": [
    "Мы заполнили все пропущенные значения в тестовой выборке"
   ]
  },
  {
   "cell_type": "markdown",
   "id": "12ffcdb0",
   "metadata": {},
   "source": [
    "## Корреляционный анализ"
   ]
  },
  {
   "cell_type": "code",
   "execution_count": 90,
   "id": "9e9dd1ac",
   "metadata": {},
   "outputs": [
    {
     "data": {
      "text/plain": [
       "<AxesSubplot:>"
      ]
     },
     "execution_count": 90,
     "metadata": {},
     "output_type": "execute_result"
    },
    {
     "data": {
      "image/png": "[encoded data removed]",
      "text/plain": [
       "<Figure size 720x504 with 2 Axes>"
      ]
     },
     "metadata": {},
     "output_type": "display_data"
    }
   ],
   "source": [
    "train_num_corr = train[numeric_cols]\n",
    "#признаки распределены не нормально, поэтому используем непараметрическую корреляцию Спирмана\n",
    "corr_matrix = train_num_corr.corr(method='spearman')\n",
    "#для лучшей визуализации обнуляем корреляции, которые ниже заданного порога\n",
    "corr_matrix[abs(corr_matrix) <= TRESHOLD_FOR_CORR] = 0\n",
    "mask = np.triu(np.ones_like(corr_matrix, dtype=bool))\n",
    "cmap = \"viridis\"\n",
    "\n",
    "sns.heatmap(corr_matrix,  mask=mask, linewidths=0.1, vmax=1.0, vmin=-1.0,  square=True, cmap=cmap, \n",
    "            annot=True, fmt=\".1f\")"
   ]
  },
  {
   "cell_type": "markdown",
   "id": "c234d45e",
   "metadata": {},
   "source": [
    "По карте корреляции видим, что самая сильная положительная корреляция между FoodCourt и VRDeck, Spa. Кореляция хоть и есть, но не сильная (ниже нашего порогового значения, определенного в п.2.2), поэтому исследованные численные признаки из анализа мы удалять не будем"
   ]
  },
  {
   "cell_type": "markdown",
   "id": "31485263",
   "metadata": {},
   "source": [
    "# Продготовка данных к моделированию"
   ]
  },
  {
   "cell_type": "markdown",
   "id": "638280dc",
   "metadata": {},
   "source": [
    "## Разделение тренировочной выборки на признаки и целевую переменную"
   ]
  },
  {
   "cell_type": "code",
   "execution_count": 91,
   "id": "f7c44812",
   "metadata": {},
   "outputs": [],
   "source": [
    "X_train = train.drop(columns=['Transported'], axis=1)\n",
    "y_train = train['Transported']\n",
    "\n",
    "X_test = test"
   ]
  },
  {
   "cell_type": "code",
   "execution_count": 92,
   "id": "16060e3c",
   "metadata": {},
   "outputs": [
    {
     "name": "stdout",
     "output_type": "stream",
     "text": [
      "количество пропущенных значений в тренировочной: 0\n",
      "количество пропущенных значений в тестовой: 0\n"
     ]
    }
   ],
   "source": [
    "print('количество пропущенных значений в тренировочной:', X_train.isna().sum().sum())\n",
    "print('количество пропущенных значений в тестовой:', test.isna().sum().sum())"
   ]
  },
  {
   "cell_type": "markdown",
   "id": "e60d68e0",
   "metadata": {},
   "source": [
    "## Нормализация числовых признаков"
   ]
  },
  {
   "cell_type": "code",
   "execution_count": 93,
   "id": "1fdba569",
   "metadata": {},
   "outputs": [
    {
     "data": {
      "text/html": [
       "<div>\n",
       "<style scoped>\n",
       "    .dataframe tbody tr th:only-of-type {\n",
       "        vertical-align: middle;\n",
       "    }\n",
       "\n",
       "    .dataframe tbody tr th {\n",
       "        vertical-align: top;\n",
       "    }\n",
       "\n",
       "    .dataframe thead th {\n",
       "        text-align: right;\n",
       "    }\n",
       "</style>\n",
       "<table border=\"1\" class=\"dataframe\">\n",
       "  <thead>\n",
       "    <tr style=\"text-align: right;\">\n",
       "      <th></th>\n",
       "      <th>FoodCourt</th>\n",
       "      <th>RoomService</th>\n",
       "      <th>ShoppingMall</th>\n",
       "      <th>Spa</th>\n",
       "      <th>VRDeck</th>\n",
       "    </tr>\n",
       "  </thead>\n",
       "  <tbody>\n",
       "    <tr>\n",
       "      <th>0</th>\n",
       "      <td>0.0</td>\n",
       "      <td>0.0</td>\n",
       "      <td>0.0</td>\n",
       "      <td>0.0</td>\n",
       "      <td>0.0</td>\n",
       "    </tr>\n",
       "    <tr>\n",
       "      <th>1</th>\n",
       "      <td>9.0</td>\n",
       "      <td>109.0</td>\n",
       "      <td>25.0</td>\n",
       "      <td>549.0</td>\n",
       "      <td>44.0</td>\n",
       "    </tr>\n",
       "    <tr>\n",
       "      <th>2</th>\n",
       "      <td>3576.0</td>\n",
       "      <td>43.0</td>\n",
       "      <td>0.0</td>\n",
       "      <td>6715.0</td>\n",
       "      <td>49.0</td>\n",
       "    </tr>\n",
       "    <tr>\n",
       "      <th>3</th>\n",
       "      <td>1283.0</td>\n",
       "      <td>0.0</td>\n",
       "      <td>371.0</td>\n",
       "      <td>3329.0</td>\n",
       "      <td>193.0</td>\n",
       "    </tr>\n",
       "    <tr>\n",
       "      <th>4</th>\n",
       "      <td>70.0</td>\n",
       "      <td>303.0</td>\n",
       "      <td>151.0</td>\n",
       "      <td>565.0</td>\n",
       "      <td>2.0</td>\n",
       "    </tr>\n",
       "  </tbody>\n",
       "</table>\n",
       "</div>"
      ],
      "text/plain": [
       "   FoodCourt  RoomService  ShoppingMall     Spa  VRDeck\n",
       "0        0.0          0.0           0.0     0.0     0.0\n",
       "1        9.0        109.0          25.0   549.0    44.0\n",
       "2     3576.0         43.0           0.0  6715.0    49.0\n",
       "3     1283.0          0.0         371.0  3329.0   193.0\n",
       "4       70.0        303.0         151.0   565.0     2.0"
      ]
     },
     "execution_count": 93,
     "metadata": {},
     "output_type": "execute_result"
    }
   ],
   "source": [
    "X_train[numeric_cols].head()"
   ]
  },
  {
   "cell_type": "code",
   "execution_count": 94,
   "id": "610fa28a",
   "metadata": {},
   "outputs": [
    {
     "data": {
      "text/html": [
       "<div>\n",
       "<style scoped>\n",
       "    .dataframe tbody tr th:only-of-type {\n",
       "        vertical-align: middle;\n",
       "    }\n",
       "\n",
       "    .dataframe tbody tr th {\n",
       "        vertical-align: top;\n",
       "    }\n",
       "\n",
       "    .dataframe thead th {\n",
       "        text-align: right;\n",
       "    }\n",
       "</style>\n",
       "<table border=\"1\" class=\"dataframe\">\n",
       "  <thead>\n",
       "    <tr style=\"text-align: right;\">\n",
       "      <th></th>\n",
       "      <th>FoodCourt</th>\n",
       "      <th>RoomService</th>\n",
       "      <th>ShoppingMall</th>\n",
       "      <th>Spa</th>\n",
       "      <th>VRDeck</th>\n",
       "    </tr>\n",
       "  </thead>\n",
       "  <tbody>\n",
       "    <tr>\n",
       "      <th>0</th>\n",
       "      <td>-0.300171</td>\n",
       "      <td>-0.349085</td>\n",
       "      <td>-0.313827</td>\n",
       "      <td>-0.281711</td>\n",
       "      <td>-0.283051</td>\n",
       "    </tr>\n",
       "    <tr>\n",
       "      <th>1</th>\n",
       "      <td>-0.293984</td>\n",
       "      <td>-0.177518</td>\n",
       "      <td>-0.267843</td>\n",
       "      <td>0.224965</td>\n",
       "      <td>-0.240069</td>\n",
       "    </tr>\n",
       "    <tr>\n",
       "      <th>2</th>\n",
       "      <td>2.157988</td>\n",
       "      <td>-0.281403</td>\n",
       "      <td>-0.313827</td>\n",
       "      <td>5.915608</td>\n",
       "      <td>-0.235184</td>\n",
       "    </tr>\n",
       "    <tr>\n",
       "      <th>3</th>\n",
       "      <td>0.581769</td>\n",
       "      <td>-0.349085</td>\n",
       "      <td>0.368581</td>\n",
       "      <td>2.790646</td>\n",
       "      <td>-0.094516</td>\n",
       "    </tr>\n",
       "    <tr>\n",
       "      <th>4</th>\n",
       "      <td>-0.252052</td>\n",
       "      <td>0.127839</td>\n",
       "      <td>-0.036082</td>\n",
       "      <td>0.239731</td>\n",
       "      <td>-0.281097</td>\n",
       "    </tr>\n",
       "  </tbody>\n",
       "</table>\n",
       "</div>"
      ],
      "text/plain": [
       "   FoodCourt  RoomService  ShoppingMall       Spa    VRDeck\n",
       "0  -0.300171    -0.349085     -0.313827 -0.281711 -0.283051\n",
       "1  -0.293984    -0.177518     -0.267843  0.224965 -0.240069\n",
       "2   2.157988    -0.281403     -0.313827  5.915608 -0.235184\n",
       "3   0.581769    -0.349085      0.368581  2.790646 -0.094516\n",
       "4  -0.252052     0.127839     -0.036082  0.239731 -0.281097"
      ]
     },
     "execution_count": 94,
     "metadata": {},
     "output_type": "execute_result"
    }
   ],
   "source": [
    "sc = StandardScaler()\n",
    "\n",
    "X_train[numeric_cols] = sc.fit_transform(X_train[numeric_cols])\n",
    "X_test[numeric_cols] = sc.transform(X_test[numeric_cols])\n",
    "X_train[numeric_cols].head()"
   ]
  },
  {
   "cell_type": "markdown",
   "id": "0a5a5289",
   "metadata": {},
   "source": [
    "Перед построением моделей проверим, что тестовая и тренировочная выборки состоят из одинаковых признаков:"
   ]
  },
  {
   "cell_type": "code",
   "execution_count": 95,
   "id": "3484dd41",
   "metadata": {},
   "outputs": [
    {
     "name": "stdout",
     "output_type": "stream",
     "text": [
      "Признаки, которые есть в тренировочной, но которых нет в тестовой:  []\n",
      "Признаки, которые есть в тестовой, но которых нет в тренировочной:  []\n"
     ]
    }
   ],
   "source": [
    "col_in_train_notin_test = [col for col in X_train.columns if col not in X_test.columns]\n",
    "col_in_test_notin_train = [col for col in X_test.columns if col not in X_train.columns]\n",
    "print('Признаки, которые есть в тренировочной, но которых нет в тестовой: ', col_in_train_notin_test)\n",
    "print('Признаки, которые есть в тестовой, но которых нет в тренировочной: ', col_in_test_notin_train)"
   ]
  },
  {
   "cell_type": "markdown",
   "id": "90a39f2d",
   "metadata": {},
   "source": [
    "# Моделирование"
   ]
  },
  {
   "cell_type": "markdown",
   "id": "90ab3b73",
   "metadata": {},
   "source": [
    "## Сравнение простых моделей с параметрами по умолчанию для выбора наилучшей модели"
   ]
  },
  {
   "cell_type": "markdown",
   "id": "e8286fac",
   "metadata": {},
   "source": [
    "Будем сравнивать предсказания следующих методов классификации:\n",
    "+ Support Vector Machines\n",
    "+ Random Forests\n",
    "+ Logistic Regression"
   ]
  },
  {
   "cell_type": "code",
   "execution_count": 96,
   "id": "c474a526",
   "metadata": {},
   "outputs": [],
   "source": [
    "X_train_train, X_train_test, y_train_train, y_train_test = train_test_split(X_train,\n",
    "                                                    y_train,\n",
    "                                                    test_size=SPLIT_TEST_SIZE,\n",
    "                                                    random_state=RANDOM_STATE)"
   ]
  },
  {
   "cell_type": "code",
   "execution_count": 97,
   "id": "60d0fee9",
   "metadata": {},
   "outputs": [
    {
     "data": {
      "text/html": [
       "<div>\n",
       "<style scoped>\n",
       "    .dataframe tbody tr th:only-of-type {\n",
       "        vertical-align: middle;\n",
       "    }\n",
       "\n",
       "    .dataframe tbody tr th {\n",
       "        vertical-align: top;\n",
       "    }\n",
       "\n",
       "    .dataframe thead th {\n",
       "        text-align: right;\n",
       "    }\n",
       "</style>\n",
       "<table border=\"1\" class=\"dataframe\">\n",
       "  <thead>\n",
       "    <tr style=\"text-align: right;\">\n",
       "      <th></th>\n",
       "      <th>RoomService</th>\n",
       "      <th>FoodCourt</th>\n",
       "      <th>ShoppingMall</th>\n",
       "      <th>Spa</th>\n",
       "      <th>VRDeck</th>\n",
       "      <th>HomePlanet_Earth</th>\n",
       "      <th>HomePlanet_Europa</th>\n",
       "      <th>HomePlanet_Mars</th>\n",
       "      <th>CryoSleep_False</th>\n",
       "      <th>CryoSleep_True</th>\n",
       "      <th>...</th>\n",
       "      <th>CabinDeck_A</th>\n",
       "      <th>CabinDeck_B</th>\n",
       "      <th>CabinDeck_C</th>\n",
       "      <th>CabinDeck_D</th>\n",
       "      <th>CabinDeck_E</th>\n",
       "      <th>CabinDeck_F</th>\n",
       "      <th>CabinDeck_G</th>\n",
       "      <th>CabinDeck_T</th>\n",
       "      <th>CabinSide_P</th>\n",
       "      <th>CabinSide_S</th>\n",
       "    </tr>\n",
       "  </thead>\n",
       "  <tbody>\n",
       "    <tr>\n",
       "      <th>2702</th>\n",
       "      <td>-0.349085</td>\n",
       "      <td>-0.300171</td>\n",
       "      <td>-0.313827</td>\n",
       "      <td>-0.281711</td>\n",
       "      <td>-0.283051</td>\n",
       "      <td>1</td>\n",
       "      <td>0</td>\n",
       "      <td>0</td>\n",
       "      <td>1</td>\n",
       "      <td>0</td>\n",
       "      <td>...</td>\n",
       "      <td>0</td>\n",
       "      <td>0</td>\n",
       "      <td>0</td>\n",
       "      <td>0</td>\n",
       "      <td>0</td>\n",
       "      <td>0</td>\n",
       "      <td>1</td>\n",
       "      <td>0</td>\n",
       "      <td>1</td>\n",
       "      <td>0</td>\n",
       "    </tr>\n",
       "    <tr>\n",
       "      <th>134</th>\n",
       "      <td>-0.349085</td>\n",
       "      <td>-0.300171</td>\n",
       "      <td>-0.313827</td>\n",
       "      <td>-0.281711</td>\n",
       "      <td>-0.283051</td>\n",
       "      <td>1</td>\n",
       "      <td>0</td>\n",
       "      <td>0</td>\n",
       "      <td>1</td>\n",
       "      <td>0</td>\n",
       "      <td>...</td>\n",
       "      <td>0</td>\n",
       "      <td>0</td>\n",
       "      <td>0</td>\n",
       "      <td>0</td>\n",
       "      <td>0</td>\n",
       "      <td>0</td>\n",
       "      <td>1</td>\n",
       "      <td>0</td>\n",
       "      <td>0</td>\n",
       "      <td>1</td>\n",
       "    </tr>\n",
       "    <tr>\n",
       "      <th>5751</th>\n",
       "      <td>0.027103</td>\n",
       "      <td>-0.299483</td>\n",
       "      <td>1.613837</td>\n",
       "      <td>-0.281711</td>\n",
       "      <td>-0.283051</td>\n",
       "      <td>0</td>\n",
       "      <td>0</td>\n",
       "      <td>1</td>\n",
       "      <td>1</td>\n",
       "      <td>0</td>\n",
       "      <td>...</td>\n",
       "      <td>0</td>\n",
       "      <td>0</td>\n",
       "      <td>0</td>\n",
       "      <td>0</td>\n",
       "      <td>0</td>\n",
       "      <td>1</td>\n",
       "      <td>0</td>\n",
       "      <td>0</td>\n",
       "      <td>0</td>\n",
       "      <td>1</td>\n",
       "    </tr>\n",
       "    <tr>\n",
       "      <th>8082</th>\n",
       "      <td>-0.349085</td>\n",
       "      <td>-0.300171</td>\n",
       "      <td>-0.313827</td>\n",
       "      <td>-0.281711</td>\n",
       "      <td>-0.283051</td>\n",
       "      <td>1</td>\n",
       "      <td>0</td>\n",
       "      <td>0</td>\n",
       "      <td>1</td>\n",
       "      <td>0</td>\n",
       "      <td>...</td>\n",
       "      <td>0</td>\n",
       "      <td>0</td>\n",
       "      <td>0</td>\n",
       "      <td>0</td>\n",
       "      <td>0</td>\n",
       "      <td>0</td>\n",
       "      <td>1</td>\n",
       "      <td>0</td>\n",
       "      <td>1</td>\n",
       "      <td>0</td>\n",
       "    </tr>\n",
       "    <tr>\n",
       "      <th>7892</th>\n",
       "      <td>-0.349085</td>\n",
       "      <td>-0.300171</td>\n",
       "      <td>-0.313827</td>\n",
       "      <td>-0.281711</td>\n",
       "      <td>-0.283051</td>\n",
       "      <td>1</td>\n",
       "      <td>0</td>\n",
       "      <td>0</td>\n",
       "      <td>0</td>\n",
       "      <td>1</td>\n",
       "      <td>...</td>\n",
       "      <td>0</td>\n",
       "      <td>0</td>\n",
       "      <td>0</td>\n",
       "      <td>0</td>\n",
       "      <td>0</td>\n",
       "      <td>0</td>\n",
       "      <td>1</td>\n",
       "      <td>0</td>\n",
       "      <td>1</td>\n",
       "      <td>0</td>\n",
       "    </tr>\n",
       "  </tbody>\n",
       "</table>\n",
       "<p>5 rows × 25 columns</p>\n",
       "</div>"
      ],
      "text/plain": [
       "      RoomService  FoodCourt  ShoppingMall       Spa    VRDeck  \\\n",
       "2702    -0.349085  -0.300171     -0.313827 -0.281711 -0.283051   \n",
       "134     -0.349085  -0.300171     -0.313827 -0.281711 -0.283051   \n",
       "5751     0.027103  -0.299483      1.613837 -0.281711 -0.283051   \n",
       "8082    -0.349085  -0.300171     -0.313827 -0.281711 -0.283051   \n",
       "7892    -0.349085  -0.300171     -0.313827 -0.281711 -0.283051   \n",
       "\n",
       "      HomePlanet_Earth  HomePlanet_Europa  HomePlanet_Mars  CryoSleep_False  \\\n",
       "2702                 1                  0                0                1   \n",
       "134                  1                  0                0                1   \n",
       "5751                 0                  0                1                1   \n",
       "8082                 1                  0                0                1   \n",
       "7892                 1                  0                0                0   \n",
       "\n",
       "      CryoSleep_True  ...  CabinDeck_A  CabinDeck_B  CabinDeck_C  CabinDeck_D  \\\n",
       "2702               0  ...            0            0            0            0   \n",
       "134                0  ...            0            0            0            0   \n",
       "5751               0  ...            0            0            0            0   \n",
       "8082               0  ...            0            0            0            0   \n",
       "7892               1  ...            0            0            0            0   \n",
       "\n",
       "      CabinDeck_E  CabinDeck_F  CabinDeck_G  CabinDeck_T  CabinSide_P  \\\n",
       "2702            0            0            1            0            1   \n",
       "134             0            0            1            0            0   \n",
       "5751            0            1            0            0            0   \n",
       "8082            0            0            1            0            1   \n",
       "7892            0            0            1            0            1   \n",
       "\n",
       "      CabinSide_S  \n",
       "2702            0  \n",
       "134             1  \n",
       "5751            1  \n",
       "8082            0  \n",
       "7892            0  \n",
       "\n",
       "[5 rows x 25 columns]"
      ]
     },
     "execution_count": 97,
     "metadata": {},
     "output_type": "execute_result"
    }
   ],
   "source": [
    "X_train_train.head()"
   ]
  },
  {
   "cell_type": "code",
   "execution_count": 100,
   "id": "6d7f7e2d",
   "metadata": {},
   "outputs": [
    {
     "name": "stdout",
     "output_type": "stream",
     "text": [
      "model: SVC()\n",
      "accuracy_score: 0.8001152073732719\n",
      "______________________________ \n",
      "\n",
      "model: RandomForestClassifier()\n",
      "accuracy_score: 0.7972350230414746\n",
      "______________________________ \n",
      "\n",
      "model: LogisticRegression()\n",
      "accuracy_score: 0.7972350230414746\n",
      "______________________________ \n",
      "\n"
     ]
    }
   ],
   "source": [
    "models = [SVC(),  RandomForestClassifier(), LogisticRegression()]\n",
    "for m in models:\n",
    "    m.fit(X_train_train, y_train_train)\n",
    "    y_pred = m.predict(X_train_test)\n",
    "    \n",
    "    print(f'model: {str(m)}')\n",
    "    print(f'accuracy_score: {str(accuracy_score(y_train_test, y_pred))}')\n",
    "    print('_'*30, '\\n')"
   ]
  },
  {
   "cell_type": "markdown",
   "id": "06d54e2a",
   "metadata": {},
   "source": [
    "Выберем  модель, показавшую наилучший результат - SVC"
   ]
  },
  {
   "cell_type": "markdown",
   "id": "d3d51d53",
   "metadata": {},
   "source": [
    "## Подбор параметров и предсказание с ипользованием метода опорных векторов"
   ]
  },
  {
   "cell_type": "code",
   "execution_count": 101,
   "id": "970282ed",
   "metadata": {},
   "outputs": [],
   "source": [
    "parameters_grid = {'C': [0.001, 0.01, 0.1, 1, 10, 100], 'gamma': [0.001, 0.01, 0.1, 1, 10]}"
   ]
  },
  {
   "cell_type": "code",
   "execution_count": 103,
   "id": "3f962164",
   "metadata": {},
   "outputs": [
    {
     "data": {
      "text/plain": [
       "GridSearchCV(cv=5, estimator=SVC(), n_jobs=-1,\n",
       "             param_grid={'C': [0.001, 0.01, 0.1, 1, 10, 100],\n",
       "                         'gamma': [0.001, 0.01, 0.1, 1, 10]})"
      ]
     },
     "execution_count": 103,
     "metadata": {},
     "output_type": "execute_result"
    }
   ],
   "source": [
    "model = SVC()\n",
    "svc_cv = GridSearchCV(model, parameters_grid, cv=NUM_SPLIT_FOR_GRID, n_jobs=-1)\n",
    "svc_cv.fit(X_train_train, y_train_train)"
   ]
  },
  {
   "cell_type": "code",
   "execution_count": 104,
   "id": "a0017b53",
   "metadata": {},
   "outputs": [
    {
     "name": "stdout",
     "output_type": "stream",
     "text": [
      "Лучшие параметры: {'C': 1, 'gamma': 0.1}\n",
      "Лучший R² (train): 0.8017586719863564\n"
     ]
    }
   ],
   "source": [
    "print(f\"Лучшие параметры: {svc_cv.best_params_}\")\n",
    "print(f\"Лучший R² (train): {svc_cv.best_score_}\")"
   ]
  },
  {
   "cell_type": "markdown",
   "id": "983932b7",
   "metadata": {},
   "source": [
    "На основании полученных параметров построим предсказательную модель"
   ]
  },
  {
   "cell_type": "code",
   "execution_count": 106,
   "id": "c73dc38b",
   "metadata": {},
   "outputs": [
    {
     "name": "stdout",
     "output_type": "stream",
     "text": [
      "--SVC--\n",
      "accuracy score: 0.8012672811059908\n"
     ]
    }
   ],
   "source": [
    "svc_mod = SVC(C=svc_cv.best_params_['C'], gamma=svc_cv.best_params_['gamma'])\n",
    "svc_mod.fit(X_train_train, y_train_train)\n",
    "y_pred = svc_mod.predict(X_train_test)\n",
    "\n",
    "print(f'--{svc_mod.__class__.__name__}--')\n",
    "print(f'accuracy score: {str(accuracy_score(y_train_test, y_pred))}')"
   ]
  },
  {
   "cell_type": "markdown",
   "id": "e241e42d",
   "metadata": {},
   "source": [
    "Визуализируем полученные результаты при помощи confusion matrix"
   ]
  },
  {
   "cell_type": "code",
   "execution_count": 122,
   "id": "3f4a61b8",
   "metadata": {},
   "outputs": [
    {
     "data": {
      "text/plain": [
       "Text(66.5, 0.5, 'Actual')"
      ]
     },
     "execution_count": 122,
     "metadata": {},
     "output_type": "execute_result"
    },
    {
     "data": {
      "image/png": "[encoded data removed]",
      "text/plain": [
       "<Figure size 720x720 with 2 Axes>"
      ]
     },
     "metadata": {},
     "output_type": "display_data"
    }
   ],
   "source": [
    "plt.figure(figsize=(10,10))\n",
    "sns.heatmap(confusion_matrix(y_train_test, y_pred), linewidths=0.1, square=True, annot=True, cmap='summer', fmt='3.0f')\n",
    "plt.title('Confusion Matrix')\n",
    "plt.xlabel('Predicted')\n",
    "plt.ylabel('Actual')"
   ]
  },
  {
   "cell_type": "markdown",
   "id": "d862dca2",
   "metadata": {},
   "source": [
    "По confusion matrix можем увидеть, что 152 пассажира мы классифицировали как не транспортировавшихся, хотя на самом деле они были транспортированы. И 193 классифицировали как транспортровавшиеся, хотя на самом деле были транспортированы. Но все же, большинство мы классифицировали верно. Можно было увеличить полноту, предсказывая больше как 'транспортировавшиеся', уменьшим при этом точность, используя f beta score, но в условиях соревнований этого не требовалось."
   ]
  },
  {
   "cell_type": "markdown",
   "id": "9d11e19d",
   "metadata": {},
   "source": [
    "**сделаем предсказания для тестовой выборки**"
   ]
  },
  {
   "cell_type": "code",
   "execution_count": 107,
   "id": "e3c0ca0e",
   "metadata": {},
   "outputs": [
    {
     "data": {
      "text/plain": [
       "array([ True, False,  True,  True,  True,  True,  True,  True,  True,\n",
       "        True])"
      ]
     },
     "execution_count": 107,
     "metadata": {},
     "output_type": "execute_result"
    }
   ],
   "source": [
    "predict = svc_mod.predict(X_test)\n",
    "predict[:10]    "
   ]
  },
  {
   "cell_type": "code",
   "execution_count": 120,
   "id": "6a076829",
   "metadata": {},
   "outputs": [],
   "source": [
    "submission = {\n",
    "    'PassengerId': test_id,\n",
    "    'Transported': predict\n",
    "}\n",
    "solution = pd.DataFrame(submission)\n",
    "solution.to_csv('data/submission.csv', index=False)"
   ]
  }
 ],
 "metadata": {
  "kernelspec": {
   "display_name": "Python 3 (ipykernel)",
   "language": "python",
   "name": "python3"
  },
  "language_info": {
   "codemirror_mode": {
    "name": "ipython",
    "version": 3
   },
   "file_extension": ".py",
   "mimetype": "text/x-python",
   "name": "python",
   "nbconvert_exporter": "python",
   "pygments_lexer": "ipython3",
   "version": "3.9.7"
  },
  "toc": {
   "base_numbering": 1,
   "nav_menu": {},
   "number_sections": true,
   "sideBar": true,
   "skip_h1_title": false,
   "title_cell": "Table of Contents",
   "title_sidebar": "Contents",
   "toc_cell": false,
   "toc_position": {
    "height": "calc(100% - 180px)",
    "left": "10px",
    "top": "150px",
    "width": "384px"
   },
   "toc_section_display": true,
   "toc_window_display": true
  }
 },
 "nbformat": 4,
 "nbformat_minor": 5
}
